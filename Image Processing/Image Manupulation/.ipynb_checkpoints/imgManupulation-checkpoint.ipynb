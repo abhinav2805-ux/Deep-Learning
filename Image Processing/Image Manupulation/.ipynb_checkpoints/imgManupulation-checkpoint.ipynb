{
 "cells": [
  {
   "cell_type": "code",
   "execution_count": 1,
   "id": "db53aaf3-15c9-4e94-916e-602994cbac10",
   "metadata": {},
   "outputs": [],
   "source": [
    "import numpy as np\n",
    "import cv2 as cv\n",
    "import matplotlib.pyplot as plt"
   ]
  },
  {
   "cell_type": "markdown",
   "id": "e2c8d171-66fc-4aab-a13e-e3ee7dd2e824",
   "metadata": {},
   "source": [
    "# draw rectabgle\n"
   ]
  },
  {
   "cell_type": "code",
   "execution_count": 2,
   "id": "e63c6418-94f2-451a-93d6-da087ba4fa85",
   "metadata": {},
   "outputs": [],
   "source": [
    "cam = cv.VideoCapture(0)\n",
    "\n",
    "while True:\n",
    "\n",
    "    _, img = cam.read()\n",
    "    \n",
    "    img = cv.flip(img, 1) \n",
    "   \n",
    "    img = cv.rectangle(img,(400,100),(800,600), (255,0,0),3) # img , start point , end point , color \n",
    "    img = cv.rectangle(img,(395,95) ,(805,605), (0,255,0),3)\n",
    "    img = cv.rectangle(img,(390,90) ,(810,610), (0,0,255),3)\n",
    "\n",
    "    cv.imshow(\"Frame\",img)\n",
    "    \n",
    "    key = cv.waitKey(10)\n",
    "    \n",
    "    if (key == 27):                                       \n",
    "        cam.release()\n",
    "        break"
   ]
  },
  {
   "cell_type": "markdown",
   "id": "09bee5f3-a969-4ae4-8163-199133e1c176",
   "metadata": {},
   "source": [
    "#  Drawing Circle"
   ]
  },
  {
   "cell_type": "code",
   "execution_count": 2,
   "id": "7ae91a77-0cfe-4840-9584-fa6c02eeba8c",
   "metadata": {},
   "outputs": [],
   "source": [
    "cam = cv.VideoCapture(0)\n",
    "\n",
    "while True:\n",
    "\n",
    "    _, img = cam.read()\n",
    "    \n",
    "    img = cv.flip(img, 1) \n",
    "    \n",
    "    img = cv.circle(img,(640,360), 650, (160,67,93), 200)\n",
    "\n",
    "    cv.imshow(\"Frame\",img)\n",
    "    \n",
    "    key = cv.waitKey(10)\n",
    "    \n",
    "    if (key == 27):                                       \n",
    "        cam.release()\n",
    "        break"
   ]
  },
  {
   "cell_type": "markdown",
   "id": "03a82026-f66d-4882-9872-28b442dbf785",
   "metadata": {},
   "source": [
    "# Writing Text"
   ]
  },
  {
   "cell_type": "code",
   "execution_count": 2,
   "id": "fcd5a7c0-e9ff-45de-92a1-08637682df0d",
   "metadata": {},
   "outputs": [],
   "source": [
    "cam = cv.VideoCapture(0)\n",
    "\n",
    "while True:\n",
    "\n",
    "    _, img = cam.read()\n",
    "    \n",
    "    img = cv.flip(img, 1) \n",
    "\n",
    "    img = cv.putText(img, 'Abhinav Gupta',(10,30), cv.FONT_HERSHEY_PLAIN, 2, (160,67,93), 2)\n",
    "\n",
    "    cv.imshow(\"Frame\",img)\n",
    "    \n",
    "    key = cv.waitKey(10)\n",
    "    \n",
    "    if (key == 27):                                       \n",
    "        cam.release()\n",
    "        break"
   ]
  },
  {
   "cell_type": "markdown",
   "id": "8a9d235f-aad4-4ca1-bc0e-b93f7578fbab",
   "metadata": {},
   "source": [
    "#  Edge Detection"
   ]
  },
  {
   "cell_type": "code",
   "execution_count": 2,
   "id": "28f43194-cfdc-43fe-933d-713fc4596155",
   "metadata": {},
   "outputs": [],
   "source": [
    "cam = cv.VideoCapture(0)\n",
    "\n",
    "while True:\n",
    "    \n",
    "    _, img = cam.read()\n",
    "    \n",
    "    img = cv.flip(img,1)\n",
    "    \n",
    "    edge_1 = cv.Canny(img, 100,200)\n",
    "    edge_2 = cv.Canny(img, 150,250)\n",
    "    \n",
    "    cv.imshow(\"Frame\", img)\n",
    "    cv.imshow(\"Edges-1\", edge_1)\n",
    "    cv.imshow(\"Edges-2\", edge_2)\n",
    "    \n",
    "    \n",
    "    if cv.waitKey(10) == 27:\n",
    "        cam.release()\n",
    "        break"
   ]
  },
  {
   "cell_type": "markdown",
   "id": "e1b1b059-603f-4b73-b803-27d6995ae530",
   "metadata": {},
   "source": [
    "#  Realtime Blur"
   ]
  },
  {
   "cell_type": "code",
   "execution_count": 2,
   "id": "0460bd8b-cd32-4260-acd7-228aba602dec",
   "metadata": {},
   "outputs": [],
   "source": [
    "cam = cv.VideoCapture(0)\n",
    "\n",
    "while True:\n",
    "    \n",
    "    _, img = cam.read()\n",
    "    \n",
    "    img = cv.flip(img,1)\n",
    "    \n",
    "    blr_1 = cv.blur(img,(2,2)) \n",
    "    blr_2 = cv.blur(img,(4,4)) \n",
    "    blr_3 = cv.blur(img,(8,8)) \n",
    "    blr_4 = cv.blur(img,(16,16)) \n",
    "    blr_5 = cv.blur(img,(32,32)) \n",
    "    \n",
    "    \n",
    "    cv.imshow(\"Frame\", img)\n",
    "    cv.imshow(\"Blur-1\" , blr_1)\n",
    "    cv.imshow(\"Blur-2\" , blr_2)\n",
    "    cv.imshow(\"Blur-3\" , blr_3)\n",
    "    cv.imshow(\"Blur-4\" , blr_4)\n",
    "    cv.imshow(\"Blur-5\" , blr_5)\n",
    "    \n",
    "    if cv.waitKey(10) == 27:\n",
    "        cam.release()\n",
    "        break"
   ]
  },
  {
   "cell_type": "markdown",
   "id": "90412ebb-9c56-4045-92ee-1a2b9c666a9b",
   "metadata": {},
   "source": [
    "# Edge Detection + Blur"
   ]
  },
  {
   "cell_type": "code",
   "execution_count": 2,
   "id": "311e58eb-4368-44c3-be5b-4039af7b0166",
   "metadata": {},
   "outputs": [],
   "source": [
    "cam = cv.VideoCapture(0)\n",
    "\n",
    "while True:\n",
    "    \n",
    "    _, img = cam.read()\n",
    "    \n",
    "    img = cv.flip(img,1)                # Original Frame\n",
    "    \n",
    "    blr = cv.blur(img,(5,5))            # Blur on Original Frame\n",
    "    edg = cv.Canny(img, 0,50)        # Edge Detection on Original Frame\n",
    "    fin = cv.Canny(blr, 0,50)        # Edge Detection on Blur Frame\n",
    "    \n",
    "    \n",
    "    cv.imshow(\"Original\", img)\n",
    "    cv.imshow(\"Blur\"    , blr)\n",
    "    cv.imshow(\"Edges\"   , edg)\n",
    "    cv.imshow(\"Final\"   , fin)\n",
    "    \n",
    "    if cv.waitKey(10) == 27:\n",
    "        cam.release()\n",
    "        break"
   ]
  },
  {
   "cell_type": "markdown",
   "id": "92d2f90d-4350-4d27-b613-1b46b187c766",
   "metadata": {},
   "source": [
    "# Image Scaling"
   ]
  },
  {
   "cell_type": "code",
   "execution_count": 2,
   "id": "9ed8ff78-3483-496c-95f0-ebe4de7aec5f",
   "metadata": {},
   "outputs": [
    {
     "name": "stdout",
     "output_type": "stream",
     "text": [
      "(480, 640, 3)\n"
     ]
    }
   ],
   "source": [
    "cam = cv.VideoCapture(0)\n",
    "\n",
    "while True:\n",
    "    \n",
    "    _, img = cam.read()\n",
    "    \n",
    "    img = cv.flip(img,1)                \n",
    "    \n",
    "    resized_1 = cv.resize(img, (int(img.shape[1]/2) ,int(img.shape[0]/2)))\n",
    "    resized_2 = cv.resize(img, (int(img.shape[1]/4) ,int(img.shape[0]/4)))\n",
    "    # image shape is 480 , 640\n",
    "    cv.imshow(\"Original\", img)\n",
    "    cv.imshow(\"Resized-1\", resized_1)\n",
    "    cv.imshow(\"Resized-2\", resized_2)\n",
    "    \n",
    "    if cv.waitKey(10) == 27:\n",
    "        cam.release()\n",
    "        break\n",
    "\n",
    "print(img.shape)"
   ]
  },
  {
   "cell_type": "markdown",
   "id": "4538b670-1f6e-4582-a37a-351bcc601428",
   "metadata": {},
   "source": [
    "# Downscale & Upscale"
   ]
  },
  {
   "cell_type": "code",
   "execution_count": 2,
   "id": "c0797c3b-7ff2-4bcd-8b27-63566d482ee6",
   "metadata": {},
   "outputs": [],
   "source": [
    "cam = cv.VideoCapture(0)\n",
    "\n",
    "while True:\n",
    "    \n",
    "    _, img = cam.read()\n",
    "    \n",
    "    img = cv.flip(img,1)                \n",
    "    \n",
    "    resized_1 = cv.resize(img      , (int(img.shape[1]/4) ,int(img.shape[0]/4)))\n",
    "    resized_2 = cv.resize(resized_1, (int(resized_1.shape[1]*4) ,int(resized_1.shape[0]*4)))\n",
    "    \n",
    "    \n",
    "    cv.imshow(\"Original\", img)\n",
    "    cv.imshow(\"Resized-1\", resized_1) # downScale\n",
    "    cv.imshow(\"Upscaled\", resized_2) # upScale\n",
    "    \n",
    "    if cv.waitKey(10) == 27:\n",
    "        cam.release()\n",
    "        break"
   ]
  }
 ],
 "metadata": {
  "kernelspec": {
   "display_name": "Python (base)",
   "language": "python",
   "name": "base"
  },
  "language_info": {
   "codemirror_mode": {
    "name": "ipython",
    "version": 3
   },
   "file_extension": ".py",
   "mimetype": "text/x-python",
   "name": "python",
   "nbconvert_exporter": "python",
   "pygments_lexer": "ipython3",
   "version": "3.11.7"
  }
 },
 "nbformat": 4,
 "nbformat_minor": 5
}
