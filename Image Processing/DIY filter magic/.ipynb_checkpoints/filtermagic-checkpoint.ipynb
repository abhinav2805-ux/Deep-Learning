{
 "cells": [
  {
   "cell_type": "code",
   "execution_count": 1,
   "id": "fe45734a-e7c3-4342-91be-bb42b0452b2f",
   "metadata": {},
   "outputs": [],
   "source": [
    "import cv2 as cv\n",
    "import numpy as np\n",
    "import matplotlib.pyplot as plt\n",
    "\n",
    "blue = [247,206,139]"
   ]
  },
  {
   "cell_type": "markdown",
   "id": "87588e2c-0265-49a9-bd5c-35d182b85350",
   "metadata": {},
   "source": [
    "# Increasing Brightness"
   ]
  },
  {
   "cell_type": "code",
   "execution_count": 2,
   "id": "51746e0e-7c6d-41f1-a854-12c86bc82b19",
   "metadata": {},
   "outputs": [],
   "source": [
    "pixels = float(10)\n",
    "\n",
    "cam = cv.VideoCapture(0)\n",
    "\n",
    "while True:\n",
    "    \n",
    "    _, img = cam.read()\n",
    "    img = cv.flip(img, 1)\n",
    "    \n",
    "    img_1 = img + pixels\n",
    "    img_1[img_1 <  0 ] = 0\n",
    "    img_1[img_1 > 255] = 255\n",
    "    img_1 = img_1.astype(np.uint8)\n",
    "    \n",
    "    img_2 = img + (2*pixels)\n",
    "    img_2[img_2 <  0 ] = 0\n",
    "    img_2[img_2 > 255] = 255\n",
    "    img_2 = img_2.astype(np.uint8)\n",
    "    \n",
    "    img_3 = img + (3*pixels)\n",
    "    img_3[img_3 <  0 ] = 0\n",
    "    img_3[img_3 > 255] = 255\n",
    "    img_3 = img_3.astype(np.uint8)\n",
    "    \n",
    "    \n",
    "    cv.imshow(\"Original\",img)\n",
    "    cv.imshow(\"Filter-1\",img_1)\n",
    "    cv.imshow(\"Filter-2\",img_2)\n",
    "    cv.imshow(\"Filter-3\",img_3)\n",
    "    \n",
    "    if cv.waitKey(1) == 27:\n",
    "        cam.release()\n",
    "        break"
   ]
  },
  {
   "cell_type": "markdown",
   "id": "5e520cf0-8597-4cdf-b94b-e8555fd6e064",
   "metadata": {},
   "source": [
    "# Reduce Brightness"
   ]
  },
  {
   "cell_type": "code",
   "execution_count": 2,
   "id": "b2b078dd-46ed-47b0-a788-8b06c8782011",
   "metadata": {},
   "outputs": [
    {
     "name": "stdout",
     "output_type": "stream",
     "text": [
      "(480, 640, 3)\n"
     ]
    }
   ],
   "source": [
    "pixels = float(10)\n",
    "\n",
    "cam = cv.VideoCapture(0)\n",
    "\n",
    "while True:\n",
    "    \n",
    "    _, img = cam.read()\n",
    "    img = cv.flip(img, 1)\n",
    "    \n",
    "    img_1 = img - pixels\n",
    "    img_1[img_1 <  0 ] = 0\n",
    "    img_1[img_1 > 255] = 255\n",
    "    img_1 = img_1.astype(np.uint8)\n",
    "    \n",
    "    img_2 = img - (2*pixels)\n",
    "    img_2[img_2 <  0 ] = 0\n",
    "    img_2[img_2 > 255] = 255\n",
    "    img_2 = img_2.astype(np.uint8)\n",
    "    \n",
    "    img_3 = img - (3*pixels)\n",
    "    img_3[img_3 <  0 ] = 0\n",
    "    img_3[img_3 > 255] = 255\n",
    "    img_3 = img_3.astype(np.uint8)\n",
    "    \n",
    "    \n",
    "    cv.imshow(\"Original\",img)\n",
    "    cv.imshow(\"Filter-1\",img_1)\n",
    "    cv.imshow(\"Filter-2\",img_2)\n",
    "    cv.imshow(\"Filter-3\",img_3)\n",
    "    \n",
    "    if cv.waitKey(1) == 27:\n",
    "        cam.release()\n",
    "        break\n",
    "\n",
    "print(img.shape)"
   ]
  },
  {
   "cell_type": "markdown",
   "id": "358d1e24-73f3-4ab7-9318-ca4f9a659418",
   "metadata": {},
   "source": [
    "# Creating Blue Background"
   ]
  },
  {
   "cell_type": "code",
   "execution_count": 3,
   "id": "ef73ec13-8393-4af0-945f-53d39a4f5a37",
   "metadata": {},
   "outputs": [],
   "source": [
    "# create a blue background \n",
    "\n",
    "background = []\n",
    "\n",
    "for i in range(480):\n",
    "    temp = []\n",
    "    for j in range(640):\n",
    "        temp.append(blue)\n",
    "    background.append(temp)\n",
    "    \n",
    "background = np.array(background).astype(np.uint8)"
   ]
  },
  {
   "cell_type": "markdown",
   "id": "56f3f6ee-512b-4297-943b-5692d73fe8da",
   "metadata": {},
   "source": [
    "# Merging Blue Background with live feed"
   ]
  },
  {
   "cell_type": "code",
   "execution_count": 3,
   "id": "3cd322b9-dc97-4287-93af-6ac91e3e566c",
   "metadata": {},
   "outputs": [],
   "source": [
    "cam = cv.VideoCapture(0)\n",
    "\n",
    "while True:\n",
    "    \n",
    "    _, img = cam.read()\n",
    "    img = cv.flip(img, 1)\n",
    "    \n",
    "    img = np.array(img).astype(np.uint8)\n",
    "    \n",
    "    merged = cv.addWeighted(img, .85, background, .15, 0)\n",
    "    \n",
    "    cv.imshow(\"Original\",img)\n",
    "    cv.imshow(\"Merged\",merged)\n",
    "    \n",
    "    if cv.waitKey(1) == 27:\n",
    "        cam.release()\n",
    "        break"
   ]
  },
  {
   "cell_type": "markdown",
   "id": "6e59c6b9-0147-45ee-a6ce-e0a184baf1b8",
   "metadata": {},
   "source": [
    "# Creating Feed with Warmer Tone"
   ]
  },
  {
   "cell_type": "code",
   "execution_count": 3,
   "id": "0f8eed36-94fc-4d4f-a0ba-182577dbfd07",
   "metadata": {},
   "outputs": [],
   "source": [
    "yellow = [108,222,249]\n",
    "\n",
    "background = []\n",
    "\n",
    "for i in range(480):\n",
    "    temp = []\n",
    "    for j in range(640):\n",
    "        temp.append(yellow)\n",
    "    background.append(temp)\n",
    "    \n",
    "background = np.array(background).astype(np.uint8)\n",
    "\n",
    "\n",
    "cam = cv.VideoCapture(0)\n",
    "\n",
    "while True:\n",
    "    \n",
    "    _, img = cam.read()\n",
    "    img = cv.flip(img, 1)\n",
    "    \n",
    "    img = np.array(img).astype(np.uint8)\n",
    "    \n",
    "    merged = cv.addWeighted(img, .90, background, .10, 0)\n",
    "    \n",
    "    cv.imshow(\"Original\",img)\n",
    "    cv.imshow(\"Merged\",merged)\n",
    "    \n",
    "    if cv.waitKey(1) == 27:\n",
    "        cam.release()\n",
    "        break"
   ]
  },
  {
   "cell_type": "markdown",
   "id": "8af09d53-aa18-4772-81f4-0684c918dabb",
   "metadata": {},
   "source": [
    "# Creating both Filters"
   ]
  },
  {
   "cell_type": "code",
   "execution_count": 4,
   "id": "424439bb-8d8d-462d-b8ce-99a5980344bb",
   "metadata": {},
   "outputs": [],
   "source": [
    "yellow = [108,222,249]\n",
    "\n",
    "yellow_background = []\n",
    "for i in range(480):\n",
    "    temp = []\n",
    "    for j in range(640):\n",
    "        temp.append(yellow)\n",
    "    yellow_background.append(temp)\n",
    "    \n",
    "yellow_background = np.array(background).astype(np.uint8)\n",
    "\n",
    "\n",
    "blue = [247,206,139]\n",
    "\n",
    "blue_background = []\n",
    "for i in range(480):\n",
    "    temp = []\n",
    "    for j in range(640):\n",
    "        temp.append(blue)\n",
    "    blue_background.append(temp)\n",
    "    \n",
    "blue_background = np.array(blue_background).astype(np.uint8)\n",
    "\n",
    "\n",
    "cam = cv.VideoCapture(0)\n",
    "\n",
    "while True:\n",
    "    \n",
    "    _, img = cam.read()\n",
    "    img = cv.flip(img, 1)\n",
    "    \n",
    "    img = np.array(img).astype(np.uint8)\n",
    "    \n",
    "    merged_yellow = cv.addWeighted(img, .90, yellow_background, .10, 0)\n",
    "    merged_blue = cv.addWeighted(img, .90, blue_background, .10, 0)\n",
    "    \n",
    "    cv.imshow(\"Original\",img)\n",
    "    cv.imshow(\"Yellow\"  ,merged_yellow)\n",
    "    cv.imshow(\"Blue\"    ,merged_blue)\n",
    "    \n",
    "    \n",
    "    if cv.waitKey(1) == 27:\n",
    "        cam.release()\n",
    "        break"
   ]
  },
  {
   "cell_type": "markdown",
   "id": "cfc053bd-8d09-46bb-81f4-2f26ee9c6f52",
   "metadata": {},
   "source": [
    "# Adding Tone"
   ]
  },
  {
   "cell_type": "code",
   "execution_count": 2,
   "id": "72453827-0dff-4323-aef9-62305a17a8c9",
   "metadata": {},
   "outputs": [],
   "source": [
    "def add_tone(img_path, color, a, b):\n",
    "    \n",
    "    background = []\n",
    "\n",
    "    img = cv.imread(img_path)\n",
    "\n",
    "    cols = img.shape[1]\n",
    "    rows = img.shape[0]\n",
    "\n",
    "\n",
    "    for i in range(rows):\n",
    "        temp = []\n",
    "        for j in range(cols):\n",
    "            temp.append(color)\n",
    "\n",
    "        background.append(temp)\n",
    "\n",
    "    background = np.array(background).astype(np.uint8)\n",
    "\n",
    "    final = cv.addWeighted(img, a , background, b , 0)\n",
    "\n",
    "    cv.imshow('Original',img)\n",
    "    cv.waitKey(0)\n",
    "\n",
    "    cv.imshow('Processed',final)\n",
    "    cv.waitKey(0)"
   ]
  },
  {
   "cell_type": "code",
   "execution_count": 3,
   "id": "17f39713-299a-4e10-8010-8c6cc779681e",
   "metadata": {},
   "outputs": [],
   "source": [
    "add_tone('img_3.png', [80,20,200], .5, .5)"
   ]
  },
  {
   "cell_type": "markdown",
   "id": "be4f9f3e-ed28-48ae-83dd-8c55fa205384",
   "metadata": {},
   "source": [
    "# Merge bachground and foreground"
   ]
  },
  {
   "cell_type": "code",
   "execution_count": 2,
   "id": "8b76f555-6250-4d2e-9155-c2e589957d47",
   "metadata": {},
   "outputs": [],
   "source": [
    "def merge(foreground_path, background_path, a, b):\n",
    "    \n",
    "    background = []\n",
    "\n",
    "    img        = cv.imread(foreground_path)\n",
    "    background = cv.imread(background_path)\n",
    "    \n",
    "#     background = cv.flip(background, 0)\n",
    "    \n",
    "    background = cv.resize(background, (img.shape[1], img.shape[0]))\n",
    "\n",
    "    final = cv.addWeighted(img, a, background, b , 0)\n",
    "\n",
    "    cv.imshow('Original',img)\n",
    "    cv.waitKey(0)\n",
    "\n",
    "    cv.imshow('Processed',final)\n",
    "    cv.waitKey(0)"
   ]
  },
  {
   "cell_type": "code",
   "execution_count": 3,
   "id": "a74ed1d7-4c8a-4fce-931c-540ac5d80f56",
   "metadata": {},
   "outputs": [],
   "source": [
    "merge('img_3.png', 'b2.jpeg', .5, .5)"
   ]
  }
 ],
 "metadata": {
  "kernelspec": {
   "display_name": "Python (base)",
   "language": "python",
   "name": "base"
  },
  "language_info": {
   "codemirror_mode": {
    "name": "ipython",
    "version": 3
   },
   "file_extension": ".py",
   "mimetype": "text/x-python",
   "name": "python",
   "nbconvert_exporter": "python",
   "pygments_lexer": "ipython3",
   "version": "3.11.7"
  }
 },
 "nbformat": 4,
 "nbformat_minor": 5
}
