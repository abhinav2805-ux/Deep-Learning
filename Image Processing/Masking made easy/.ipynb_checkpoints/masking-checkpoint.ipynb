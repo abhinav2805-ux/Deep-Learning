{
 "cells": [
  {
   "cell_type": "code",
   "execution_count": 1,
   "id": "17de6cee-c96b-44e1-ac3f-637b9776c591",
   "metadata": {},
   "outputs": [],
   "source": [
    "import cv2 as cv\n",
    "import numpy as np\n",
    "import matplotlib.pyplot as plt"
   ]
  },
  {
   "cell_type": "markdown",
   "id": "fd1868be-2063-4b4a-b3aa-a626ad149cf7",
   "metadata": {},
   "source": [
    "# Thresholding"
   ]
  },
  {
   "cell_type": "code",
   "execution_count": 2,
   "id": "d9d4dbd9-c365-4996-8e5d-a8613360cfa9",
   "metadata": {},
   "outputs": [],
   "source": [
    "cam = cv.VideoCapture(0)\n",
    "\n",
    "while True:\n",
    "    \n",
    "    _ , img = cam.read()\n",
    "    \n",
    "    img = cv.resize(img , (int(640), int(480)))\n",
    "    img = cv.flip(img,1)\n",
    "    \n",
    "    gray = cv.cvtColor(img , cv.COLOR_BGR2GRAY)\n",
    "    \n",
    "    gray_thr_1 = gray.copy()\n",
    "    gray_thr_1[gray_thr_1 > 200] = 30        # Black Background\n",
    "    \n",
    "    gray_thr_2 = gray.copy()\n",
    "    gray_thr_2[gray_thr_2 > 200] = 100       # White Background\n",
    "    \n",
    "    \n",
    "    cv.imshow('Original'  ,img)\n",
    "    cv.imshow('Gray'      ,gray)\n",
    "    cv.imshow('Gray_Thr1' ,gray_thr_1)\n",
    "    cv.imshow('Gray_Thr2' ,gray_thr_2)\n",
    "    \n",
    "    if cv.waitKey(1) == 27:\n",
    "        \n",
    "        cam.release()\n",
    "        break"
   ]
  },
  {
   "cell_type": "markdown",
   "id": "527e83d5-5236-48b1-8655-1d6393233c15",
   "metadata": {},
   "source": [
    "# Color Masking"
   ]
  },
  {
   "cell_type": "code",
   "execution_count": 2,
   "id": "74a214f1-50a2-4a8b-9779-e18424e73e7d",
   "metadata": {},
   "outputs": [],
   "source": [
    "camera = cv.VideoCapture(0)\n",
    "\n",
    "lower = np.array([180,200,200])\n",
    "upper = np.array([255,255,255])\n",
    "\n",
    "while True:\n",
    "    \n",
    "    _ , img = camera.read()\n",
    "    img = cv.flip(img,1)    \n",
    "    \n",
    "    mask = cv.blur(img, (4,4))\n",
    "    mask = cv.inRange(mask, lower, upper)\n",
    "    \n",
    "    cv.imshow(\"Frame\" , img)\n",
    "    cv.imshow(\"Mask\"  , mask)\n",
    "    \n",
    "    if (cv.waitKey(1) == 27):\n",
    "        camera.release()\n",
    "        break\n",
    "        \n",
    "camera.release()   "
   ]
  },
  {
   "cell_type": "code",
   "execution_count": 2,
   "id": "c5b98e1c-3a3b-4c98-8fb6-b61667f0b7ae",
   "metadata": {},
   "outputs": [
    {
     "data": {
      "text/plain": [
       "27"
      ]
     },
     "execution_count": 2,
     "metadata": {},
     "output_type": "execute_result"
    }
   ],
   "source": [
    "lower = np.array([200 ,  200 , 200 ])\n",
    "upper = np.array([255 ,  255 , 255])\n",
    "\n",
    "img = cv.imread('img_1.png')\n",
    "\n",
    "mask = cv.blur(img, (8,8))\n",
    "mask = cv.inRange(mask, lower, upper)\n",
    "\n",
    "cv.imshow(\"Frame-1\" , img)\n",
    "cv.imshow(\"Mask-1\"  , mask)\n",
    "\n",
    "cv.waitKey(0)"
   ]
  }
 ],
 "metadata": {
  "kernelspec": {
   "display_name": "Python (base)",
   "language": "python",
   "name": "base"
  },
  "language_info": {
   "codemirror_mode": {
    "name": "ipython",
    "version": 3
   },
   "file_extension": ".py",
   "mimetype": "text/x-python",
   "name": "python",
   "nbconvert_exporter": "python",
   "pygments_lexer": "ipython3",
   "version": "3.11.7"
  }
 },
 "nbformat": 4,
 "nbformat_minor": 5
}
