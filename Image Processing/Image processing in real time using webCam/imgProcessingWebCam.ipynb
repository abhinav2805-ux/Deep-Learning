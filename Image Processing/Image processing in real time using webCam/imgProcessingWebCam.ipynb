{
 "cells": [
  {
   "cell_type": "code",
   "execution_count": 2,
   "id": "f2d8f994-4764-47b0-817a-b88400ddcede",
   "metadata": {},
   "outputs": [],
   "source": [
    "import cv2 as cv\n",
    "import numpy as np\n",
    "import matplotlib.pyplot as plt"
   ]
  },
  {
   "cell_type": "markdown",
   "id": "cf57ed23-5065-465a-bed6-915ed9efc52e",
   "metadata": {},
   "source": [
    "# Working with webcam"
   ]
  },
  {
   "cell_type": "code",
   "execution_count": 2,
   "id": "4af6e0ea-f616-4278-bbe0-e760c99f5a94",
   "metadata": {},
   "outputs": [],
   "source": [
    "# access webcam\n",
    "# capture frames from it\n",
    "\n",
    "cam = cv.VideoCapture(0) # 0 -> inbuilt camera\n",
    "\n",
    "while True:\n",
    "    _,img = cam.read()\n",
    "    cv.imshow(\"Frame\",img)\n",
    "    key = cv.waitKey(30) # 1000/30 frames per sec\n",
    "    \n",
    "    if(key == 27): # escape key for stop the program\n",
    "        break\n",
    "        cam.release()\n",
    "\n"
   ]
  },
  {
   "cell_type": "markdown",
   "id": "608a0004-057a-4701-99de-24688ee1dde7",
   "metadata": {},
   "source": [
    "# Crop and Flip"
   ]
  },
  {
   "cell_type": "code",
   "execution_count": 2,
   "id": "4f0183e8-863a-45f0-b3b5-f413eaceec98",
   "metadata": {},
   "outputs": [],
   "source": [
    "cam = cv.VideoCapture(0)\n",
    "\n",
    "while True:\n",
    "\n",
    "    _, img = cam.read()\n",
    "    img = cv.flip(img, 1) # 0 - horizontal , 1 - vertical\n",
    "\n",
    "    frame = img[ 100:500 , 400:800 , : ]\n",
    "    \n",
    "    cv.imshow(\"Frame\",img)\n",
    "    cv.imshow(\"Cropped\",frame)\n",
    "    \n",
    "    key = cv.waitKey(20)\n",
    "    \n",
    "    \n",
    "    if (key == 27):\n",
    "        cam.release()\n",
    "        break"
   ]
  },
  {
   "cell_type": "markdown",
   "id": "444632ea-3784-4658-b2d4-bd45b89f68c2",
   "metadata": {},
   "source": [
    "# Frame Extraction and HSV"
   ]
  },
  {
   "cell_type": "code",
   "execution_count": 3,
   "id": "adf6c2c9-a0a8-4f1f-af26-79d3efa8772a",
   "metadata": {},
   "outputs": [],
   "source": [
    "cam = cv.VideoCapture(0)\n",
    "\n",
    "while True:\n",
    "\n",
    "    _, img = cam.read()\n",
    "    \n",
    "    img = cv.flip(img, 1) \n",
    "    hsv = cv.cvtColor(img, cv.COLOR_BGR2HSV)\n",
    "    \n",
    "    #RGB Extraction\n",
    "    r = img[:,:,0]\n",
    "    g = img[:,:,1]\n",
    "    b = img[:,:,2]\n",
    "    \n",
    "    #HSV Extraction\n",
    "    h = hsv[:,:,0]\n",
    "    s = hsv[:,:,1]\n",
    "    v = hsv[:,:,2]\n",
    "\n",
    "    #RGB Frame Display\n",
    "    cv.imshow(\"Frame\",img)\n",
    "    cv.imshow(\"Red\"  ,r)\n",
    "    cv.imshow(\"Green\",g)\n",
    "    cv.imshow(\"Blue\" ,b)\n",
    "  \n",
    "    #HSV Frame Display    \n",
    "    cv.imshow(\"HSV\"  ,hsv)\n",
    "    cv.imshow(\"Hue\"  ,h)\n",
    "    cv.imshow(\"Saturation\",s)\n",
    "    cv.imshow(\"Value\",v)\n",
    "    \n",
    "    key = cv.waitKey(20) # 1000/20 = 50 frames per sec\n",
    "    \n",
    "    \n",
    "    if (key == 27):\n",
    "        cam.release()\n",
    "        break"
   ]
  }
 ],
 "metadata": {
  "kernelspec": {
   "display_name": "Python (base)",
   "language": "python",
   "name": "base"
  },
  "language_info": {
   "codemirror_mode": {
    "name": "ipython",
    "version": 3
   },
   "file_extension": ".py",
   "mimetype": "text/x-python",
   "name": "python",
   "nbconvert_exporter": "python",
   "pygments_lexer": "ipython3",
   "version": "3.11.7"
  }
 },
 "nbformat": 4,
 "nbformat_minor": 5
}
