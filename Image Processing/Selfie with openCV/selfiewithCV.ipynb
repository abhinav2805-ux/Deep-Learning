{
 "cells": [
  {
   "cell_type": "markdown",
   "id": "38eb8002-d845-407f-bea1-f7acaa012ae9",
   "metadata": {},
   "source": [
    "# Selfie with OpenCV"
   ]
  },
  {
   "cell_type": "code",
   "execution_count": 1,
   "id": "978e008f-a83c-496e-af2d-0bb837e0828a",
   "metadata": {},
   "outputs": [],
   "source": [
    "import cv2 as cv\n",
    "import numpy as np\n",
    "import matplotlib.pyplot as plt"
   ]
  },
  {
   "cell_type": "code",
   "execution_count": null,
   "id": "7f5ceaa4-8221-4e72-af24-45542894da29",
   "metadata": {},
   "outputs": [],
   "source": [
    "gray = cv.cvtColor(img, cv.COLOR_RGB2GRAY)\n",
    "hsv   = cv.cvtColor(img, cv.COLOR_RGB2HSV)"
   ]
  },
  {
   "cell_type": "code",
   "execution_count": 3,
   "id": "d12bc322-b2ee-4240-8ea3-dbc9835ddf30",
   "metadata": {},
   "outputs": [],
   "source": [
    "cam = cv.VideoCapture(0)\n",
    "while True:\n",
    "\n",
    "    _, img = cam.read()\n",
    "    \n",
    "    img = cv.flip(img, 1) \n",
    "    \n",
    "    gray = cv.cvtColor(img, cv.COLOR_RGB2GRAY)\n",
    "    hsv  = cv.cvtColor(img, cv.COLOR_RGB2HSV)\n",
    "   \n",
    "    cv.imshow(\"Frame\",img)\n",
    "    \n",
    "    key = cv.waitKey(20)\n",
    "    \n",
    "    if (key == 13):  # press enter ASCII code is 13\n",
    "        \n",
    "        cv.imwrite('Selfie.png', img)\n",
    "        cv.imwrite('Selfie_Gray.png', gray)\n",
    "        cv.imwrite('Selfie_HSV.png', hsv)\n",
    "        cam.release()\n",
    "        \n",
    "        break"
   ]
  },
  {
   "cell_type": "markdown",
   "id": "d74696a8-0b84-4a1c-8c1a-9cfb92f59a7a",
   "metadata": {},
   "source": [
    "# Multiple Selfies with OpenCV\r\n",
    "\r\n"
   ]
  },
  {
   "cell_type": "code",
   "execution_count": 2,
   "id": "0465f8b7-c9f6-416c-9bfe-a0b258fb516c",
   "metadata": {},
   "outputs": [],
   "source": [
    "cam = cv.VideoCapture(0)\n",
    "\n",
    "c = 1\n",
    "\n",
    "while True:\n",
    "\n",
    "    _, img = cam.read()\n",
    "    \n",
    "    img = cv.flip(img, 1) \n",
    "   \n",
    "    cv.imshow(\"Frame\",img)\n",
    "    \n",
    "    key = cv.waitKey(30)\n",
    "    \n",
    "    if (key == 13):     # Click selfie if Enter is pressed\n",
    "        cv.imwrite('Selfie/Selfie_' + str(c) + '.png', img) #Dynaic Name given to Each new selfie\n",
    "        c += 1\n",
    "    \n",
    "    \n",
    "    if (key == 27):  # Terminate the program if Escape is Pressed\n",
    "        cam.release()\n",
    "        break"
   ]
  },
  {
   "cell_type": "code",
   "execution_count": null,
   "id": "8a6d9ec1-3e50-40c0-9b2d-b5ac62404778",
   "metadata": {},
   "outputs": [],
   "source": []
  }
 ],
 "metadata": {
  "kernelspec": {
   "display_name": "Python (base)",
   "language": "python",
   "name": "base"
  },
  "language_info": {
   "codemirror_mode": {
    "name": "ipython",
    "version": 3
   },
   "file_extension": ".py",
   "mimetype": "text/x-python",
   "name": "python",
   "nbconvert_exporter": "python",
   "pygments_lexer": "ipython3",
   "version": "3.11.7"
  }
 },
 "nbformat": 4,
 "nbformat_minor": 5
}
