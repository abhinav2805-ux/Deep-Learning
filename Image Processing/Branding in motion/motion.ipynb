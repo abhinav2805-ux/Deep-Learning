{
 "cells": [
  {
   "cell_type": "code",
   "execution_count": 1,
   "id": "2b17cb80-1f1c-4257-a488-b9404c4f1150",
   "metadata": {},
   "outputs": [],
   "source": [
    "import cv2 as cv\n",
    "import numpy as np\n",
    " "
   ]
  },
  {
   "cell_type": "markdown",
   "id": "2bfc365d-6999-40f0-8f39-b0045a01d6ff",
   "metadata": {},
   "source": [
    "# Adding Logo in Live Video\r\n"
   ]
  },
  {
   "cell_type": "code",
   "execution_count": 3,
   "id": "7cc25f7c-efb9-4e33-8d09-18e28a1f0e9c",
   "metadata": {},
   "outputs": [
    {
     "name": "stdout",
     "output_type": "stream",
     "text": [
      "(480, 640, 3)\n"
     ]
    }
   ],
   "source": [
    "cam = cv.VideoCapture(0)\n",
    "\n",
    "logo = cv.imread('download.png')\n",
    "logo = cv.resize(logo, (50,50))\n",
    "\n",
    "while True:\n",
    "    \n",
    "    _, img = cam.read()\n",
    "\n",
    "    img = cv.flip(img,1)\n",
    "    \n",
    "    img[ 5 : 55 , 585 : 635 ] = logo\n",
    "\n",
    "    cv.imshow('Frame'  , img)\n",
    "     \n",
    "    if cv.waitKey(1) == 27:\n",
    "        cam.release()\n",
    "        break\n",
    "\n",
    "print(img.shape)"
   ]
  },
  {
   "cell_type": "code",
   "execution_count": 2,
   "id": "b27731b3-1899-49b1-a39f-9772dbc031df",
   "metadata": {},
   "outputs": [
    {
     "data": {
      "text/plain": [
       "(100, 100, 3)"
      ]
     },
     "execution_count": 2,
     "metadata": {},
     "output_type": "execute_result"
    }
   ],
   "source": [
    "logo = cv.imread('download.png')\n",
    "\n",
    "logo = cv.resize(logo, (100,100))\n",
    "logo.shape"
   ]
  },
  {
   "cell_type": "markdown",
   "id": "6e333315-8cb7-494a-8dab-693af232376b",
   "metadata": {},
   "source": [
    "## 1. Top Right"
   ]
  },
  {
   "cell_type": "markdown",
   "id": "2dea9bff-095d-4728-8c57-7214a31723ca",
   "metadata": {},
   "source": [
    "Height (1% = Margin | 7% = Logo | 92% = Vacant) 720\n",
    "\n",
    "Width (95.5% = Margin | 4% = Logo | .5% = Vacant) 1280"
   ]
  },
  {
   "cell_type": "code",
   "execution_count": 3,
   "id": "98a30239-c0b5-4a71-824e-67e8b88853e1",
   "metadata": {},
   "outputs": [],
   "source": [
    "import cv2 as cv\n",
    "import numpy as np\n",
    " \n",
    "cam = cv.VideoCapture(0)\n",
    "\n",
    "logo = cv.imread('download.png')\n",
    "\n",
    "while True:\n",
    "    \n",
    "    _, img = cam.read()\n",
    "\n",
    "    img = cv.flip(img,1)\n",
    "    \n",
    "    ht = img.shape[0]\n",
    "    wt = img.shape[1]\n",
    "    \n",
    "    margin_top  = int(ht/100)             # 1%\n",
    "    logo_height = int((ht/100)*7)         # 7%\n",
    "    \n",
    "    margin_left = int((wt/100)*95.5)      # 95.5%\n",
    "    logo_width  = int((wt/100)*4)         # 4%\n",
    "    \n",
    "    \n",
    "    logo = cv.resize(logo, (logo_width, logo_width))\n",
    "    \n",
    "    \n",
    "    img[ margin_top : logo_width + margin_top , margin_left : margin_left + logo_width ] = logo\n",
    "\n",
    "    cv.imshow('Frame'  , img)\n",
    "     \n",
    "    if cv.waitKey(1) == 27:\n",
    "        cam.release()\n",
    "        break"
   ]
  },
  {
   "cell_type": "markdown",
   "id": "4bed13c0-9e80-4710-9f29-95463ae8419a",
   "metadata": {},
   "source": [
    "## 2. Top Left"
   ]
  },
  {
   "cell_type": "markdown",
   "id": "c901bd24-f1e3-4e5c-8ed3-132f78806564",
   "metadata": {},
   "source": [
    "Height (1% = Margin | 7% = Logo | 92% = Vacant) 720\r\n",
    "\r\n",
    "Width (.5% = Margin | 4% = Logo | 95.5% = Vacant) 1280"
   ]
  },
  {
   "cell_type": "code",
   "execution_count": 1,
   "id": "dcb15cb3-60cd-44cd-9787-3767cb9a827f",
   "metadata": {},
   "outputs": [],
   "source": [
    "import cv2 as cv\n",
    "import numpy as np\n",
    " \n",
    "cam = cv.VideoCapture(0)\n",
    "\n",
    "logo = cv.imread('download.png')\n",
    "\n",
    "while True:\n",
    "    \n",
    "    _, img = cam.read()\n",
    "\n",
    "    img = cv.flip(img,1)\n",
    "    \n",
    "    ht = img.shape[0]\n",
    "    wt = img.shape[1]\n",
    "    \n",
    "    margin_top  = int(ht/100)             # 1%\n",
    "    logo_height = int((ht/100)*7)         # 7%\n",
    "    \n",
    "    margin_left = int((wt/100)*.5)        # .5%\n",
    "    logo_width  = int((wt/100)*4)         # 4%\n",
    "    \n",
    "    \n",
    "    logo = cv.resize(logo, (logo_width, logo_width))\n",
    "    \n",
    "    \n",
    "    img[ margin_top : logo_width + margin_top , margin_left : margin_left + logo_width ] = logo\n",
    "\n",
    "    cv.imshow('Frame'  , img)\n",
    "     \n",
    "    if cv.waitKey(1) == 27:\n",
    "        cam.release()\n",
    "        break"
   ]
  },
  {
   "cell_type": "markdown",
   "id": "34fd6b05-c91b-4b7e-8fec-0d0fad6889f4",
   "metadata": {},
   "source": [
    "# 3. Bottom Left"
   ]
  },
  {
   "cell_type": "markdown",
   "id": "be159924-2e51-464c-aec2-d3bb2d7bda15",
   "metadata": {},
   "source": [
    "Height (92% = Margin | 7% = Logo | 1% = Vacant) 720\r\n",
    "\r\n",
    "Width (.5% = Margin | 4% = Logo | 95.5% = Vacant) 1280"
   ]
  },
  {
   "cell_type": "code",
   "execution_count": 1,
   "id": "4f4bf32c-4ca6-4eea-9059-382639a2202b",
   "metadata": {},
   "outputs": [],
   "source": [
    "import cv2 as cv\n",
    "import numpy as np\n",
    " \n",
    "cam = cv.VideoCapture(0)\n",
    "\n",
    "logo = cv.imread('download.png')\n",
    "\n",
    "while True:\n",
    "    \n",
    "    _, img = cam.read()\n",
    "\n",
    "    img = cv.flip(img,1)\n",
    "    \n",
    "    ht = img.shape[0]\n",
    "    wt = img.shape[1]\n",
    "    \n",
    "    margin_top  = int((ht/100)*92)        # 92%\n",
    "    logo_height = int((ht/100)*7)         # 7%\n",
    "    \n",
    "    margin_left = int((wt/100)*.5)        # .5%\n",
    "    logo_width  = int((wt/100)*4)         # 4%\n",
    "    \n",
    "    \n",
    "    logo = cv.resize(logo, (logo_width, logo_width))\n",
    "    \n",
    "    \n",
    "    img[ margin_top : logo_width + margin_top , margin_left : margin_left + logo_width ] = logo\n",
    "\n",
    "    cv.imshow('Frame'  , img)\n",
    "     \n",
    "    if cv.waitKey(1) == 27:\n",
    "        cam.release()\n",
    "        break"
   ]
  },
  {
   "cell_type": "markdown",
   "id": "6601a5de-01e6-41ec-8958-7d8fb4b1b672",
   "metadata": {},
   "source": [
    "## 4. Bottom Right"
   ]
  },
  {
   "cell_type": "markdown",
   "id": "8e6d6734-0478-470a-8e23-42547a4a012b",
   "metadata": {},
   "source": [
    "Height (92% = Margin | 7% = Logo | 1% = Vacant) 720\n",
    "\n",
    "Width (.5% = Margin | 4% = Logo | 95.5% = Vacant) 1280"
   ]
  },
  {
   "cell_type": "code",
   "execution_count": 1,
   "id": "0a8c4b7b-1f64-4649-9f42-0a62d3e2cfde",
   "metadata": {},
   "outputs": [],
   "source": [
    "import cv2 as cv\n",
    "import numpy as np\n",
    " \n",
    "cam = cv.VideoCapture(0)\n",
    "\n",
    "logo = cv.imread('download.png')\n",
    "\n",
    "while True:\n",
    "    \n",
    "    _, img = cam.read()\n",
    "\n",
    "    img = cv.flip(img,1)\n",
    "    \n",
    "    ht = img.shape[0]\n",
    "    wt = img.shape[1]\n",
    "    \n",
    "    margin_top  = int((ht/100)*92)        # 92%\n",
    "    logo_height = int((ht/100)*7)         # 7%\n",
    "    \n",
    "    margin_left = int((wt/100)*.5)        # .5%\n",
    "    logo_width  = int((wt/100)*4)         # 4%\n",
    "    \n",
    "    \n",
    "    logo = cv.resize(logo, (logo_width, logo_width))\n",
    "    \n",
    "    \n",
    "    img[ margin_top : logo_width + margin_top , margin_left : margin_left + logo_width ] = logo\n",
    "\n",
    "    cv.imshow('Frame'  , img)\n",
    "     \n",
    "    if cv.waitKey(1) == 27:\n",
    "        cam.release()\n",
    "        break"
   ]
  },
  {
   "cell_type": "markdown",
   "id": "1436169f-83c7-4126-af10-26507b2a0d20",
   "metadata": {},
   "source": [
    "## 5. Merging Everything"
   ]
  },
  {
   "cell_type": "code",
   "execution_count": 1,
   "id": "ef740924-81d2-4c67-888d-8acac5c3c75c",
   "metadata": {},
   "outputs": [],
   "source": [
    "import cv2 as cv\n",
    "import numpy as np\n",
    " \n",
    "cam = cv.VideoCapture(0)\n",
    "\n",
    "logo = cv.imread('download.png')\n",
    "\n",
    "while True:\n",
    "    \n",
    "    _, img = cam.read()\n",
    "\n",
    "    img = cv.flip(img,1)\n",
    "    \n",
    "    ht = img.shape[0]\n",
    "    wt = img.shape[1]\n",
    "    \n",
    "#    Top Right\n",
    "    margin_top  = int(ht/100)             # 1%\n",
    "    logo_height = int((ht/100)*7)         # 7%\n",
    "    margin_left = int((wt/100)*95.5)      # 95.5%\n",
    "    logo_width  = int((wt/100)*4)         # 4%\n",
    "    logo = cv.resize(logo, (logo_width, logo_width))\n",
    "    img[ margin_top : logo_width + margin_top , margin_left : margin_left + logo_width ] = logo\n",
    "    \n",
    "#   Top Left\n",
    "    margin_top  = int(ht/100)             # 1%\n",
    "    logo_height = int((ht/100)*7)         # 7%\n",
    "    margin_left = int((wt/100)*.5)        # .5%\n",
    "    logo_width  = int((wt/100)*4)         # 4%\n",
    "    logo = cv.resize(logo, (logo_width, logo_width))\n",
    "    img[ margin_top : logo_width + margin_top , margin_left : margin_left + logo_width ] = logo\n",
    "    \n",
    "#   Bottom Left\n",
    "    margin_top  = int((ht/100)*92)        # 92%\n",
    "    logo_height = int((ht/100)*7)         # 7%\n",
    "    margin_left = int((wt/100)*.5)        # .5%\n",
    "    logo_width  = int((wt/100)*4)         # 4%\n",
    "    logo = cv.resize(logo, (logo_width, logo_width))\n",
    "    img[ margin_top : logo_width + margin_top , margin_left : margin_left + logo_width ] = logo\n",
    "\n",
    "#   Bottom Right\n",
    "    margin_top  = int((ht/100)*92)        # 92%\n",
    "    logo_height = int((ht/100)*7)         # 7%\n",
    "    margin_left = int((wt/100)*95.5)        # 95.5%\n",
    "    logo_width  = int((wt/100)*4)         # 4%\n",
    "    logo = cv.resize(logo, (logo_width, logo_width))\n",
    "    img[ margin_top : logo_width + margin_top , margin_left : margin_left + logo_width ] = logo\n",
    "    \n",
    "    \n",
    "    cv.imshow('Frame'  , img)\n",
    "     \n",
    "    if cv.waitKey(1) == 27:\n",
    "        cam.release()\n",
    "        break"
   ]
  },
  {
   "cell_type": "markdown",
   "id": "7d255bd0-6fde-405e-ad85-0f82afb943f3",
   "metadata": {},
   "source": [
    "# Adding Logo in Live Video - Dynamic Fit"
   ]
  },
  {
   "cell_type": "code",
   "execution_count": 1,
   "id": "cfe3dc72-4667-4a09-a326-3e98d0bea4e9",
   "metadata": {},
   "outputs": [],
   "source": [
    "import cv2 as cv\n",
    "import numpy as np\n",
    " \n",
    "cam = cv.VideoCapture(0)\n",
    "\n",
    "logo = cv.imread('download.png')\n",
    "\n",
    "r = 640\n",
    "\n",
    "while True:\n",
    "    \n",
    "    logo = cv.imread('download.png')\n",
    "    _, img = cam.read()\n",
    "\n",
    "    img = cv.flip(img,1)\n",
    "    \n",
    "    img = img[ : , :r  ]\n",
    "    \n",
    "#     img = cv.resize(img, (720,720))\n",
    "    \n",
    "    ht = img.shape[0]\n",
    "    wt = img.shape[1]\n",
    "    \n",
    "    margin_top  = int(ht/100)             # 1%\n",
    "    logo_height = int((ht/100)*7)         # 7%\n",
    "    \n",
    "    margin_left = int((wt/100)*95.5)      # 95.5%\n",
    "    logo_width  = int((wt/100)*4)         # 4%\n",
    "    \n",
    "    side = min(logo_width,logo_height)\n",
    "    \n",
    "    logo = cv.resize(logo, (side, side))\n",
    "    \n",
    "    img[ margin_top : side + margin_top , margin_left : margin_left + side ] = logo\n",
    "\n",
    "    cv.imshow('Frame'  , img)\n",
    "    \n",
    "    if (cv.waitKey(1) == 115):\n",
    "        r -= 10\n",
    "    \n",
    "    elif (cv.waitKey(1) == 119):\n",
    "        r += 10\n",
    "    \n",
    "    elif cv.waitKey(1) == 27:\n",
    "        cam.release()\n",
    "        break"
   ]
  },
  {
   "cell_type": "markdown",
   "id": "dfaa93a7-108f-43ac-8ff6-e3e2b13e0640",
   "metadata": {},
   "source": [
    "# Final Fit ( SCALING )"
   ]
  },
  {
   "cell_type": "code",
   "execution_count": 1,
   "id": "dcb29a4b-b9b0-4531-afb4-83d1bf02c18d",
   "metadata": {},
   "outputs": [],
   "source": [
    "import cv2 as cv\n",
    "import numpy as np\n",
    " \n",
    "cam = cv.VideoCapture(0)\n",
    "\n",
    "logo = cv.imread('download.png')\n",
    "scaling_factor = 1.0\n",
    "while True:\n",
    "    \n",
    "    logo = cv.imread('download.png')\n",
    "    _, img = cam.read()\n",
    "\n",
    "    img = cv.flip(img,1)\n",
    "        \n",
    "    img = cv.resize(img, (int(img.shape[1] * scaling_factor), int(img.shape[0] * scaling_factor)))\n",
    "    \n",
    "    \n",
    "    ht = img.shape[0]\n",
    "    wt = img.shape[1]\n",
    "    \n",
    "    margin_top  = int(ht/100)             # 1%\n",
    "    logo_height = int((ht/100)*7)         # 7%\n",
    "    \n",
    "    margin_left = int((wt/100)*95.5)      # 95.5%\n",
    "    logo_width  = int((wt/100)*4)         # 4%\n",
    "    \n",
    "    side = min(logo_width,logo_height)\n",
    "    \n",
    "    logo = cv.resize(logo, (side, side))\n",
    "    \n",
    "    img[ margin_top : side + margin_top , margin_left : margin_left + side ] = logo\n",
    "\n",
    "    cv.imshow('Frame'  , img)\n",
    "    \n",
    "    if cv.waitKey(1) == 27:\n",
    "        cam.release()\n",
    "        break"
   ]
  },
  {
   "cell_type": "markdown",
   "id": "09d83348-f329-48b7-960c-083073e849d3",
   "metadata": {},
   "source": [
    "# Logo Transparency"
   ]
  },
  {
   "cell_type": "code",
   "execution_count": 2,
   "id": "fdd149e3-d9ff-4e9d-9983-e1ddafc1bfe6",
   "metadata": {},
   "outputs": [],
   "source": [
    "import cv2 as cv\n",
    "import numpy as np\n",
    " \n",
    "cam = cv.VideoCapture(0)\n",
    "\n",
    "logo = cv.imread('download.png')\n",
    "\n",
    "while True:\n",
    "    \n",
    "    logo = cv.imread('download.png')\n",
    "    _, img = cam.read()\n",
    "    img = cv.flip(img,1)\n",
    "    \n",
    "    \n",
    "    ht = img.shape[0]\n",
    "    wt = img.shape[1]\n",
    "    \n",
    "    margin_top  = int(ht/100)             # 1%\n",
    "    logo_height = int((ht/100)*7)         # 7%\n",
    "    \n",
    "    margin_left = int((wt/100)*95.5)      # 95.5%\n",
    "    logo_width  = int((wt/100)*4)         # 4%\n",
    "    \n",
    "    side = min(logo_width,logo_height)\n",
    "    \n",
    "    bg   = img[ margin_top : side + margin_top , margin_left : margin_left + side ].copy()\n",
    "    logo = cv.resize(logo, (side, side))\n",
    "    \n",
    "    final_logo = cv.addWeighted(bg, .3, logo, .7, 0)\n",
    "    \n",
    "    img[ margin_top : side + margin_top , margin_left : margin_left + side ] = final_logo\n",
    "\n",
    "    cv.imshow('Frame'  , img )\n",
    "    cv.imshow('BG'     , bg  )\n",
    "    \n",
    "    if cv.waitKey(1) == 27:\n",
    "        cam.release()\n",
    "        break"
   ]
  }
 ],
 "metadata": {
  "kernelspec": {
   "display_name": "Python (base)",
   "language": "python",
   "name": "base"
  },
  "language_info": {
   "codemirror_mode": {
    "name": "ipython",
    "version": 3
   },
   "file_extension": ".py",
   "mimetype": "text/x-python",
   "name": "python",
   "nbconvert_exporter": "python",
   "pygments_lexer": "ipython3",
   "version": "3.11.7"
  }
 },
 "nbformat": 4,
 "nbformat_minor": 5
}
