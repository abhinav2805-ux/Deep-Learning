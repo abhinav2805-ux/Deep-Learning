{
 "cells": [
  {
   "cell_type": "markdown",
   "id": "52dc8c1d-1dd4-42ff-850c-8035da9dcd48",
   "metadata": {},
   "source": [
    "# 1. Corpus Preprocessing"
   ]
  },
  {
   "cell_type": "code",
   "execution_count": 2,
   "id": "93e9c535-b30e-4f9a-bbaa-0030b83b23a1",
   "metadata": {},
   "outputs": [
    {
     "name": "stdout",
     "output_type": "stream",
     "text": [
      "India, officially the Republic of India (Hindi: Bhārat Gaṇarājya, is a country in South Asia...\n"
     ]
    }
   ],
   "source": [
    "from nltk.tokenize import word_tokenize, sent_tokenize\n",
    "from nltk.corpus import stopwords\n",
    "\n",
    "corpus = '''India, officially the Republic of India (Hindi: Bhārat Gaṇarājya),[25] is a country in South Asia...''' \n",
    "\n",
    "corpus = corpus.replace(\"[25]\", \"\").replace(\"[f]\", \"\").replace(\")\", \"\")\n",
    "print(corpus)"
   ]
  },
  {
   "cell_type": "markdown",
   "id": "31bcaa6f-1c60-4220-ab58-4a45076c5014",
   "metadata": {},
   "source": [
    "# 2. Stop Words Removal"
   ]
  },
  {
   "cell_type": "code",
   "execution_count": 3,
   "id": "9ce28775-4a56-4070-856f-23c2b34bc916",
   "metadata": {},
   "outputs": [
    {
     "name": "stdout",
     "output_type": "stream",
     "text": [
      "Filtered Words: ['india', 'officially', 'republic', 'india', 'hindi', 'bhārat', 'gaṇarājya', 'country', 'south', 'asia', '...']\n"
     ]
    }
   ],
   "source": [
    "words = []\n",
    "for word in word_tokenize(corpus):\n",
    "    if (word.lower() not in stopwords.words('english')) and (len(word) >= 2):\n",
    "        words.append(word.lower())\n",
    "\n",
    "print(\"Filtered Words:\", words)"
   ]
  },
  {
   "cell_type": "markdown",
   "id": "b1e0ca4f-5bf6-465b-9606-348ba7a8c8d9",
   "metadata": {},
   "source": [
    "# 3. Building Vocabulary"
   ]
  },
  {
   "cell_type": "code",
   "execution_count": 4,
   "id": "76b15b33-1100-47b3-b618-425c96d0ca18",
   "metadata": {},
   "outputs": [
    {
     "name": "stdout",
     "output_type": "stream",
     "text": [
      "Vocabulary Size: 10\n",
      "Sample Vocabulary: ['country', 'india', 'south', 'republic', 'bhārat']\n"
     ]
    }
   ],
   "source": [
    "vocab = list(set(words)) \n",
    "print(\"Vocabulary Size:\", len(vocab)) \n",
    "print(\"Sample Vocabulary:\", vocab[:5])"
   ]
  },
  {
   "cell_type": "markdown",
   "id": "98e577c8-e95c-4e73-a6b1-8552e5185700",
   "metadata": {},
   "source": [
    "# 4. Creating Encoders and Decoders"
   ]
  },
  {
   "cell_type": "code",
   "execution_count": 6,
   "id": "a9f0cc22-25e1-47f5-8eaf-fbf78e8996af",
   "metadata": {},
   "outputs": [
    {
     "name": "stdout",
     "output_type": "stream",
     "text": [
      "Word-to-Number: 3\n",
      "Number-to-Word: india\n"
     ]
    }
   ],
   "source": [
    "num = 1\n",
    "word_to_num = {}\n",
    "num_to_word = {}\n",
    "\n",
    "for word in vocab:\n",
    "    word_to_num[word] = num\n",
    "    num_to_word[num] = word\n",
    "    num += 1\n",
    "\n",
    "print(\"Word-to-Number:\", word_to_num['south'])  \n",
    "print(\"Number-to-Word:\", num_to_word[2])       "
   ]
  },
  {
   "cell_type": "markdown",
   "id": "ad2a4348-9154-4148-b8b9-5a053d60368a",
   "metadata": {},
   "source": [
    "# Sentence Tokenizer"
   ]
  },
  {
   "cell_type": "code",
   "execution_count": 7,
   "id": "78d2571c-ff4d-45ca-87a0-b8ce1578ce55",
   "metadata": {},
   "outputs": [
    {
     "name": "stdout",
     "output_type": "stream",
     "text": [
      "India, officially the Republic of India (Hindi: Bhārat Gaṇarājya, is a country in South Asia...\n"
     ]
    }
   ],
   "source": [
    "for sent in sent_tokenize(corpus):\n",
    "    print(sent)"
   ]
  },
  {
   "cell_type": "code",
   "execution_count": 8,
   "id": "726de04a-9667-493a-a45d-6e31868fb8fc",
   "metadata": {},
   "outputs": [
    {
     "name": "stdout",
     "output_type": "stream",
     "text": [
      "['India', ',', 'officially', 'the', 'Republic', 'of', 'India', '(', 'Hindi', ':', 'Bhārat', 'Gaṇarājya', ',', 'is', 'a', 'country', 'in', 'South', 'Asia', '...']\n"
     ]
    }
   ],
   "source": [
    "for sent in sent_tokenize(corpus):\n",
    "    print(word_tokenize(sent))"
   ]
  },
  {
   "cell_type": "code",
   "execution_count": 9,
   "id": "57112fcc-155c-47c6-b895-0c43ceea3179",
   "metadata": {},
   "outputs": [
    {
     "name": "stdout",
     "output_type": "stream",
     "text": [
      "India officially Republic India Hindi Bhārat Gaṇarājya country South Asia ... \n"
     ]
    }
   ],
   "source": [
    "for sent in sent_tokenize(corpus):\n",
    "    for word in word_tokenize(sent):\n",
    "        if (word.lower() not in stopwords.words('english')) and (len(word)>=2):\n",
    "            print(word,end=' ')\n",
    "    print()"
   ]
  },
  {
   "cell_type": "code",
   "execution_count": 10,
   "id": "ff26350d-6955-4d83-b776-89c4c6b134a5",
   "metadata": {},
   "outputs": [],
   "source": [
    "words=[]\n",
    "for word in word_tokenize(corpus):\n",
    "    if (word.lower() not in stopwords.words('english')) and (len(word)>=2):\n",
    "        words.append(word.lower())\n",
    "\n",
    "vocab=list(set(words))\n",
    "len(vocab)\n",
    "\n",
    "num=1\n",
    "word_to_num={}\n",
    "num_to_word={}\n",
    "for word in vocab:\n",
    "    word_to_num[word]=num\n",
    "    num_to_word[num]=word\n",
    "    num+=1"
   ]
  },
  {
   "cell_type": "code",
   "execution_count": 11,
   "id": "3b443b22-4590-44f7-bf0d-d1c9d16fda38",
   "metadata": {},
   "outputs": [
    {
     "name": "stdout",
     "output_type": "stream",
     "text": [
      "India 2 officially 7 Republic 4 India 2 Hindi 8 Bhārat 5 Gaṇarājya 9 country 1 South 3 Asia 10 ... 6 \n"
     ]
    }
   ],
   "source": [
    "for sent in sent_tokenize(corpus):\n",
    "    for word in word_tokenize(sent):\n",
    "        if (word.lower() not in stopwords.words('english')) and (len(word)>=2):\n",
    "            print(word,end=' ')\n",
    "            print(word_to_num[word.lower()],end=' ')\n",
    "    print()"
   ]
  },
  {
   "cell_type": "code",
   "execution_count": 12,
   "id": "24bba013-d395-4a14-8025-846087a58398",
   "metadata": {},
   "outputs": [
    {
     "name": "stdout",
     "output_type": "stream",
     "text": [
      "[2, 7, 4, 2, 8, 5, 9, 1, 3, 10, 6]\n",
      "\n"
     ]
    }
   ],
   "source": [
    "data=[]\n",
    "for sent in sent_tokenize(corpus):\n",
    "    temp=[]\n",
    "    for word in word_tokenize(sent):\n",
    "        if (word.lower() not in stopwords.words('english')) and (len(word)>=2):\n",
    "            #print(word,end=' ')\n",
    "            temp.append(word_to_num[word.lower()])\n",
    "    print(temp)\n",
    "    data.append(temp)\n",
    "    print()"
   ]
  },
  {
   "cell_type": "code",
   "execution_count": 13,
   "id": "231db35f-54ba-488e-b568-1e88cf8e0b9d",
   "metadata": {},
   "outputs": [
    {
     "name": "stdout",
     "output_type": "stream",
     "text": [
      "[2, 7, 4, 2, 8, 5, 9, 1, 3, 10, 6]\n"
     ]
    }
   ],
   "source": [
    "for sent in data:\n",
    "    print(sent)"
   ]
  },
  {
   "cell_type": "code",
   "execution_count": 14,
   "id": "143a02ff-6969-4cc5-bb33-29ac4ad45d77",
   "metadata": {},
   "outputs": [
    {
     "name": "stdout",
     "output_type": "stream",
     "text": [
      "india officially republic india hindi bhārat gaṇarājya country south asia ... \n"
     ]
    }
   ],
   "source": [
    "for sent in data:\n",
    "    for word in sent:\n",
    "        print(num_to_word[word],end=' ')\n",
    "    print()"
   ]
  },
  {
   "cell_type": "markdown",
   "id": "2ecf9dc2-2acd-48bd-9335-014775c26661",
   "metadata": {},
   "source": [
    "# Text Encoding - Decoding | Without Stop Words"
   ]
  },
  {
   "cell_type": "code",
   "execution_count": 15,
   "id": "cddc32a7-c3cd-4865-a61b-8b96d33002f6",
   "metadata": {},
   "outputs": [],
   "source": [
    "from nltk.tokenize import word_tokenize,sent_tokenize\n",
    "from nltk.corpus import stopwords\n",
    "\n",
    "corpus='''India, officially the Republic of India (Hindi: Bhārat Gaṇarājya),[25] is a country in South Asia. It is the seventh-largest country by area, the second-most populous country, and the most populous democracy in the world. Bounded by the Indian Ocean on the south, the Arabian Sea on the southwest, and the Bay of Bengal on the southeast, it shares land borders with Pakistan to the west;[f] China, Nepal, and Bhutan to the north; and Bangladesh and Myanmar to the east. In the Indian Ocean, India is in the vicinity of Sri Lanka and the Maldives; its Andaman and Nicobar Islands share a maritime border with Thailand, Myanmar, and Indonesia.'''\n",
    "\n",
    "corpus = corpus.replace(\"[25]\" , \"\")    \n",
    "corpus = corpus.replace(\"[f]\" , \"\")   \n",
    "corpus = corpus.replace(\")\" , \"\")"
   ]
  },
  {
   "cell_type": "code",
   "execution_count": 16,
   "id": "3b8af694-ccc9-46f2-bad9-e04f59605e38",
   "metadata": {},
   "outputs": [],
   "source": [
    "words=[]\n",
    "for word in word_tokenize(corpus):\n",
    "    if(len(word)==1):\n",
    "        if((ord(word)>=97 and ord(word)<=122) or (ord(word)>=65 and ord(word)<=90)):\n",
    "            words.append(word.lower())\n",
    "    else:\n",
    "        words.append(word.lower())"
   ]
  },
  {
   "cell_type": "code",
   "execution_count": 17,
   "id": "d729a35f-d6c9-4bed-9cad-54fa6b8830e3",
   "metadata": {},
   "outputs": [
    {
     "name": "stdout",
     "output_type": "stream",
     "text": [
      "61\n"
     ]
    }
   ],
   "source": [
    "vocab=list(set(words))\n",
    "print(len(vocab))"
   ]
  },
  {
   "cell_type": "code",
   "execution_count": 18,
   "id": "592cc2f2-e569-4ac2-871a-04da2e11ade2",
   "metadata": {},
   "outputs": [],
   "source": [
    "num=1\n",
    "word_to_num={}\n",
    "num_to_word={}\n",
    "for word in vocab:\n",
    "    word_to_num[word]=num\n",
    "    num_to_word[num]=word\n",
    "    num+=1"
   ]
  },
  {
   "cell_type": "code",
   "execution_count": 19,
   "id": "acdfa629-4263-4eb5-80e1-c9ad8fd5634d",
   "metadata": {},
   "outputs": [
    {
     "name": "stdout",
     "output_type": "stream",
     "text": [
      "[[19, 9, 28, 21, 47, 19, 31, 25, 11, 35, 61, 48, 4, 54, 43], [56, 35, 28, 39, 48, 3, 8, 28, 42, 12, 48, 44, 28, 20, 12, 40, 4, 28, 52], [49, 3, 28, 7, 22, 46, 28, 54, 28, 50, 59, 46, 28, 14, 44, 28, 30, 47, 16, 46, 28, 15, 56, 45, 38, 51, 53, 27, 17, 28, 24, 60, 37, 44, 18, 17, 28, 33, 44, 26, 44, 58, 17, 28, 1], [4, 28, 7, 22, 19, 35, 4, 28, 2, 47, 13, 6, 44, 28, 34, 55, 10, 44, 57, 36, 29, 61, 41, 5, 53, 32, 58, 44, 23]]\n"
     ]
    }
   ],
   "source": [
    "data=[]\n",
    "for sent in sent_tokenize(corpus):\n",
    "    temp=[]\n",
    "    for word in word_tokenize(sent):\n",
    "        if(len(word)==1):\n",
    "            if((ord(word)>=97 and ord(word)<=122) or (ord(word)>=65 and ord(word)<=90)):\n",
    "                temp.append(word_to_num[word.lower()])\n",
    "        else:\n",
    "            temp.append(word_to_num[word.lower()])\n",
    "    data.append(temp)\n",
    "print(data)"
   ]
  },
  {
   "cell_type": "code",
   "execution_count": 20,
   "id": "89b1d12e-24ff-4476-95bf-0f8bad36ac02",
   "metadata": {},
   "outputs": [
    {
     "name": "stdout",
     "output_type": "stream",
     "text": [
      "india officially the republic of india hindi bhārat gaṇarājya is a country in south asia \n",
      "it is the seventh-largest country by area the second-most populous country and the most populous democracy in the world \n",
      "bounded by the indian ocean on the south the arabian sea on the southwest and the bay of bengal on the southeast it shares land borders with pakistan to the west china nepal and bhutan to the north and bangladesh and myanmar to the east \n",
      "in the indian ocean india is in the vicinity of sri lanka and the maldives its andaman and nicobar islands share a maritime border with thailand myanmar and indonesia \n"
     ]
    }
   ],
   "source": [
    "for sent in data:\n",
    "    for word in sent:\n",
    "        print(num_to_word[word],end=' ')\n",
    "    print()"
   ]
  }
 ],
 "metadata": {
  "kernelspec": {
   "display_name": "Python 3 (ipykernel)",
   "language": "python",
   "name": "python3"
  },
  "language_info": {
   "codemirror_mode": {
    "name": "ipython",
    "version": 3
   },
   "file_extension": ".py",
   "mimetype": "text/x-python",
   "name": "python",
   "nbconvert_exporter": "python",
   "pygments_lexer": "ipython3",
   "version": "3.11.7"
  }
 },
 "nbformat": 4,
 "nbformat_minor": 5
}
