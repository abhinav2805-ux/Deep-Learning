{
 "cells": [
  {
   "cell_type": "code",
   "execution_count": 1,
   "id": "f5338acb-3006-4324-a255-1493ba087364",
   "metadata": {},
   "outputs": [],
   "source": [
    "import re # regular expression "
   ]
  },
  {
   "cell_type": "code",
   "execution_count": 2,
   "id": "40ca5f84-705c-4ee4-8b55-af6c6ab3025d",
   "metadata": {},
   "outputs": [
    {
     "data": {
      "text/plain": [
       "True"
      ]
     },
     "execution_count": 2,
     "metadata": {},
     "output_type": "execute_result"
    }
   ],
   "source": [
    "'You'.lower() in 'Hello , How are you ?'.lower()"
   ]
  },
  {
   "cell_type": "markdown",
   "id": "0803c73f-a9aa-4c80-89ad-6c5053e793f2",
   "metadata": {},
   "source": [
    "# Searching"
   ]
  },
  {
   "cell_type": "code",
   "execution_count": 3,
   "id": "9280c5e6-8ddc-4189-b055-16770129aea9",
   "metadata": {},
   "outputs": [],
   "source": [
    "srch = re.search('you','Hello, How are you ?')\n"
   ]
  },
  {
   "cell_type": "code",
   "execution_count": 4,
   "id": "dbaaa96d-16fb-44a7-8e1a-008acfac3336",
   "metadata": {},
   "outputs": [
    {
     "data": {
      "text/plain": [
       "<re.Match object; span=(15, 18), match='you'>"
      ]
     },
     "execution_count": 4,
     "metadata": {},
     "output_type": "execute_result"
    }
   ],
   "source": [
    "srch"
   ]
  },
  {
   "cell_type": "code",
   "execution_count": 5,
   "id": "d7e0797f-73f4-4758-8b0e-64094cbea3cf",
   "metadata": {},
   "outputs": [
    {
     "data": {
      "text/plain": [
       "(15, 18)"
      ]
     },
     "execution_count": 5,
     "metadata": {},
     "output_type": "execute_result"
    }
   ],
   "source": [
    "srch.span()"
   ]
  },
  {
   "cell_type": "code",
   "execution_count": 6,
   "id": "7cfab240-671e-4584-9344-af59bd0a5e39",
   "metadata": {},
   "outputs": [
    {
     "data": {
      "text/plain": [
       "15"
      ]
     },
     "execution_count": 6,
     "metadata": {},
     "output_type": "execute_result"
    }
   ],
   "source": [
    "srch.start()"
   ]
  },
  {
   "cell_type": "code",
   "execution_count": 7,
   "id": "a6b2c7c6-6ea7-4727-b207-0ac3a13f0c12",
   "metadata": {},
   "outputs": [
    {
     "data": {
      "text/plain": [
       "18"
      ]
     },
     "execution_count": 7,
     "metadata": {},
     "output_type": "execute_result"
    }
   ],
   "source": [
    "srch.end()"
   ]
  },
  {
   "cell_type": "markdown",
   "id": "794435c5-388c-4ecc-9c46-a81209b59a3b",
   "metadata": {},
   "source": [
    "# findall"
   ]
  },
  {
   "cell_type": "code",
   "execution_count": 8,
   "id": "f9203199-56cf-42b6-95b0-59e881a4bd2d",
   "metadata": {},
   "outputs": [
    {
     "data": {
      "text/plain": [
       "['are', 'are', 'are']"
      ]
     },
     "execution_count": 8,
     "metadata": {},
     "output_type": "execute_result"
    }
   ],
   "source": [
    "a= \"hello how are area are you ?\"\n",
    "b=\"are\"\n",
    "re.findall(b,a)"
   ]
  },
  {
   "cell_type": "markdown",
   "id": "ca8d60ed-f4a3-470c-9693-8f5d01ef537c",
   "metadata": {},
   "source": [
    "# Creating Regular Expression"
   ]
  },
  {
   "cell_type": "code",
   "execution_count": 9,
   "id": "0bf8db37-d5c7-4928-ada1-89f6f5866505",
   "metadata": {},
   "outputs": [
    {
     "name": "stdout",
     "output_type": "stream",
     "text": [
      "<re.Match object; span=(23, 35), match='834-4324-345'>\n",
      "None\n"
     ]
    }
   ],
   "source": [
    "txt1=\"my telephone number is 834-4324-345\"\n",
    "txt2=\"my telephone number is 8344324345\"\n",
    "pattern='\\d{3}-\\d{4}-\\d{3}'\n",
    "print(re.search(pattern,txt1))\n",
    "print(re.search(pattern,txt2))"
   ]
  },
  {
   "cell_type": "code",
   "execution_count": 10,
   "id": "986b6374-ee61-4e3a-bb4a-12ac4129da9e",
   "metadata": {},
   "outputs": [
    {
     "name": "stdout",
     "output_type": "stream",
     "text": [
      "834-4324-345\n"
     ]
    }
   ],
   "source": [
    "print(re.search(pattern,txt1).group())"
   ]
  },
  {
   "cell_type": "markdown",
   "id": "af46e998-df68-4425-a53b-8f2dbf29048c",
   "metadata": {},
   "source": [
    "# Pattern Matching with Alphanumeric"
   ]
  },
  {
   "cell_type": "code",
   "execution_count": 11,
   "id": "ac64eaf9-a716-4bd2-b20f-041474a8f369",
   "metadata": {},
   "outputs": [
    {
     "name": "stdout",
     "output_type": "stream",
     "text": [
      "['at', 'at', 'at', 'at', 'at']\n"
     ]
    }
   ],
   "source": [
    "print(re.findall('at','The rat sat on the mat and attached by a cat'))"
   ]
  },
  {
   "cell_type": "code",
   "execution_count": 12,
   "id": "12ebe881-ef51-4493-aff0-332d9d6540e0",
   "metadata": {},
   "outputs": [
    {
     "name": "stdout",
     "output_type": "stream",
     "text": [
      "['rat', 'sat', 'mat', ' at', 'cat']\n"
     ]
    }
   ],
   "source": [
    "print(re.findall('.at','The rat sat on the mat and attached by a cat'))"
   ]
  },
  {
   "cell_type": "code",
   "execution_count": 13,
   "id": "542583ab-b7fd-4ecc-b263-42093abcc4ae",
   "metadata": {},
   "outputs": [
    {
     "name": "stdout",
     "output_type": "stream",
     "text": [
      "['4', '2', '3']\n"
     ]
    }
   ],
   "source": [
    "print(re.findall('\\d','4 is divisible by 2 and not by 3'))"
   ]
  },
  {
   "cell_type": "code",
   "execution_count": 14,
   "id": "8d7b45ce-85e6-4db3-bfed-824e5b62b2dd",
   "metadata": {},
   "outputs": [
    {
     "name": "stdout",
     "output_type": "stream",
     "text": [
      "['4']\n",
      "[]\n"
     ]
    }
   ],
   "source": [
    "# start digit at the start of the string\n",
    "\n",
    "\n",
    "print(re.findall('^\\d','4 is divisible by 2 and not by 3'))\n",
    "print(re.findall('^\\d','Hi, 4 is divisible by 2 and not by 3'))"
   ]
  },
  {
   "cell_type": "code",
   "execution_count": 15,
   "id": "e67bb7ed-bfe3-42f6-97ef-348081e0aa2c",
   "metadata": {},
   "outputs": [
    {
     "name": "stdout",
     "output_type": "stream",
     "text": [
      "['3']\n",
      "[]\n"
     ]
    }
   ],
   "source": [
    "# last digit at the last of the string\n",
    "\n",
    "print(re.findall('\\d$','4 is divisible by 2 and not by 3'))\n",
    "print(re.findall('\\d$','4 is divisible by 2 and not by 3 in maths'))"
   ]
  },
  {
   "cell_type": "code",
   "execution_count": 16,
   "id": "c3940a00-e57c-46f8-81b0-860369802cbe",
   "metadata": {},
   "outputs": [
    {
     "name": "stdout",
     "output_type": "stream",
     "text": [
      "['W', 'G', 'F', 'G']\n",
      "['e', 'l', 'c', 'o', 'm', 'e', 't', 'o']\n",
      "['1']\n",
      "['W', 'e', 'l', 'c', 'o', 'm', 'e', 't', 'o', 'G', 'F', 'G']\n",
      "['W', 'e', 'l', 'c', 'o', 'm', 'e', 't', 'o', 'G', 'F', 'G', '1']\n"
     ]
    }
   ],
   "source": [
    "print(re.findall('[A-Z]','Welcome to GFG 1'))\n",
    "print(re.findall('[a-z]','Welcome to GFG 1'))\n",
    "print(re.findall('[0-9]','Welcome to GFG 1'))\n",
    "print(re.findall('[A-Za-z]','Welcome to GFG 1'))\n",
    "print(re.findall('[A-Za-z0-9]','Welcome to GFG 1'))"
   ]
  },
  {
   "cell_type": "markdown",
   "id": "04168399-354b-481e-a652-18e7e19a8ef9",
   "metadata": {},
   "source": [
    "# Text Preprocessing using RE\r\n",
    "\r\n"
   ]
  },
  {
   "cell_type": "code",
   "execution_count": 17,
   "id": "ada95ae8-9ddf-41a4-acf1-0ed2d8a6077b",
   "metadata": {},
   "outputs": [
    {
     "name": "stdout",
     "output_type": "stream",
     "text": [
      "['Eshant ', ' is happ', 'y ']\n",
      "Eshant  is happy \n"
     ]
    }
   ],
   "source": [
    "txt=\"Eshant $ is happ@y !,\"\n",
    "print(re.findall('[^!,$@]+',txt)) # ^ this means exclu\n",
    "print(''.join(re.findall('[^!,$@]+',txt)))"
   ]
  },
  {
   "cell_type": "code",
   "execution_count": 18,
   "id": "2ae16b18-d179-4aee-9054-69769b931cb1",
   "metadata": {},
   "outputs": [
    {
     "name": "stdout",
     "output_type": "stream",
     "text": [
      "['I', \"'\", 'm', ' ', 'A', 's', 'h', 'i', 's', 'h', ' ', 'a', 'n', 'd', ' ']\n",
      "I'm Ashish and \n"
     ]
    }
   ],
   "source": [
    "txt = \"I'm Ashish and 24\"\n",
    "print(re.findall('\\D',txt))\n",
    "print(''.join(re.findall('\\D',txt)))\n"
   ]
  },
  {
   "cell_type": "code",
   "execution_count": 19,
   "id": "e26d4e46-737e-40cd-9de8-d3f6d6500e7d",
   "metadata": {},
   "outputs": [
    {
     "name": "stdout",
     "output_type": "stream",
     "text": [
      "['Geeks-for-Geeks', 'works-it-out', 'wklfd-dfjgk-fjkds']\n"
     ]
    }
   ],
   "source": [
    "txt=\"Hello I am studying from Geeks-for-Geeks and it is amazing.Let's see how this works-it-out, wklfd-dfjgk-fjkds\"\n",
    "print(re.findall('[\\w]+-[\\w]+-[\\w]+',txt))"
   ]
  },
  {
   "cell_type": "code",
   "execution_count": 20,
   "id": "6dae845b-91e4-45e6-b864-4ced011cfd08",
   "metadata": {},
   "outputs": [
    {
     "name": "stdout",
     "output_type": "stream",
     "text": [
      "6465343\n",
      "54353456\n",
      "45634534\n",
      "5354535\n",
      "4352346\n"
     ]
    }
   ],
   "source": [
    "for no in [\"64-6534-342\", \"543-5345-645\",\"4563-453-445\",\"53-5453-5345\",\"435-234-6324\"]:\n",
    "    \n",
    "    print(str(re.findall('[\\d]+-[\\d]+-[\\d]' , no)[0]).replace('-',''))"
   ]
  },
  {
   "cell_type": "markdown",
   "id": "89c29f06-bf61-4a71-8e10-5f81e4388786",
   "metadata": {},
   "source": [
    "# Email Pattern Matching "
   ]
  },
  {
   "cell_type": "code",
   "execution_count": 30,
   "id": "65461689-5b95-489d-84fe-52be879739f8",
   "metadata": {},
   "outputs": [
    {
     "name": "stdout",
     "output_type": "stream",
     "text": [
      "<re.Match object; span=(0, 13), match='eshant@gfg.in'>\n"
     ]
    }
   ],
   "source": [
    "import re\n",
    "\n",
    "mail = 'eshant@gfg.in'\n",
    "p = r'[A-Za-z0-9]+@[\\w]+\\.[\\w]+' \n",
    "\n",
    "print(re.search(p, mail))\n"
   ]
  },
  {
   "cell_type": "code",
   "execution_count": 31,
   "id": "3da0efc8-626f-4c96-b9d6-6f09e42bbc0d",
   "metadata": {},
   "outputs": [
    {
     "name": "stdout",
     "output_type": "stream",
     "text": [
      "['eshant@gfg.in']\n"
     ]
    }
   ],
   "source": [
    "txt='Mail eshant@gfg.in to contact Eshant'\n",
    "print(re.findall(p,txt))"
   ]
  },
  {
   "cell_type": "markdown",
   "id": "a807749b-8870-4fdb-bbd7-0cbc139ce4db",
   "metadata": {},
   "source": [
    "### Specific email id"
   ]
  },
  {
   "cell_type": "code",
   "execution_count": 33,
   "id": "ad9715a2-87e0-456c-abe9-1b23c3f3ae1f",
   "metadata": {},
   "outputs": [
    {
     "name": "stdout",
     "output_type": "stream",
     "text": [
      "<re.Match object; span=(0, 14), match='eshant@gfg.org'>\n",
      "None\n"
     ]
    }
   ],
   "source": [
    "mail1='eshant@gfg.org'\n",
    "mail2='eshant@gmail.com'\n",
    "p='[A-Za-z0-2]+@(gfg).(org)'\n",
    "print(re.search(p,mail1))\n",
    "print(re.search(p,mail2))"
   ]
  },
  {
   "cell_type": "markdown",
   "id": "a3b9703e-a46e-49cc-9fcd-034240097207",
   "metadata": {},
   "source": [
    "### email id with Multiple Domains"
   ]
  },
  {
   "cell_type": "code",
   "execution_count": 35,
   "id": "d050a515-00e2-43ae-8aed-b4de8f754aab",
   "metadata": {},
   "outputs": [
    {
     "name": "stdout",
     "output_type": "stream",
     "text": [
      "<re.Match object; span=(0, 14), match='eshant@gfg.org'>\n",
      "<re.Match object; span=(0, 14), match='eshant@gfg.net'>\n",
      "None\n"
     ]
    }
   ],
   "source": [
    "mail1='eshant@gfg.org'\n",
    "mail2='eshant@gfg.net'\n",
    "mail3='eshant@gmail.com'\n",
    "p='[A-Za-z0-2]+@(gfg).(org|net|in)'\n",
    "print(re.search(p,mail1))\n",
    "print(re.search(p,mail2))\n",
    "print(re.search(p,mail3))"
   ]
  },
  {
   "cell_type": "markdown",
   "id": "d1ced787-956e-4660-a26e-04ade62fe1db",
   "metadata": {},
   "source": [
    "# DIY Pattern Matching - Continuous Numbers"
   ]
  },
  {
   "cell_type": "code",
   "execution_count": 37,
   "id": "16893333-9586-4531-94a8-a5490e785f76",
   "metadata": {},
   "outputs": [
    {
     "name": "stdout",
     "output_type": "stream",
     "text": [
      "8372493\n",
      "423423\n"
     ]
    }
   ],
   "source": [
    "txt = 'The number is 8372493 not 423423'\n",
    "c = 0 \n",
    "for i in range(len(txt)):\n",
    "    if txt[i].isdigit() == True:\n",
    "        if c == 0:\n",
    "            st = i \n",
    "        c += 1 \n",
    "    else:\n",
    "        if c != 0:\n",
    "            end = i \n",
    "            print(txt[st:end])\n",
    "            c = 0  \n",
    "if c != 0:\n",
    "    print(txt[-c:])"
   ]
  },
  {
   "cell_type": "markdown",
   "id": "c1b0ebf9-8a7f-4f3f-b516-3f2c21ca4866",
   "metadata": {},
   "source": [
    "# DIY Pattern Matching- Words Finding"
   ]
  },
  {
   "cell_type": "code",
   "execution_count": 38,
   "id": "27df22cc-53f8-41c4-a450-acc2aa361133",
   "metadata": {},
   "outputs": [
    {
     "name": "stdout",
     "output_type": "stream",
     "text": [
      "13 17\n"
     ]
    }
   ],
   "source": [
    "txt=\"Let us study Data Science from GFG.\"\n",
    "txt=txt.lower() \n",
    "word='data'  \n",
    "\n",
    "for i in range(len(txt)):\n",
    "   if(txt[i:i+len(word)]==word): \n",
    "       print(i,i+len(word)) "
   ]
  },
  {
   "cell_type": "markdown",
   "id": "6778e2eb-55cc-4c30-ac75-524fb6012aa9",
   "metadata": {},
   "source": [
    "# DIY Pattern Matching - Words starting from specific character"
   ]
  },
  {
   "cell_type": "code",
   "execution_count": 39,
   "id": "ba9b0e44-e816-4d8d-9cd5-a2aa973b90e5",
   "metadata": {},
   "outputs": [
    {
     "name": "stdout",
     "output_type": "stream",
     "text": [
      "industries.\n",
      "Industry\n"
     ]
    }
   ],
   "source": [
    "txt = 'AI is having the capability to revolutionize all the industries. The Industry is ready for a big change'\n",
    "word = 'in'\n",
    "\n",
    "for wrd in txt.split(' '):\n",
    "    if (wrd[:2].lower() == word.lower()):\n",
    "        print(wrd)"
   ]
  },
  {
   "cell_type": "code",
   "execution_count": 40,
   "id": "282fa89e-1b2f-4e15-a3e2-1e7850b21ec6",
   "metadata": {},
   "outputs": [
    {
     "name": "stdout",
     "output_type": "stream",
     "text": [
      "the\n",
      "the\n",
      "The\n"
     ]
    }
   ],
   "source": [
    "txt = 'AI is having the capability to revolutionize all the industries. The Industry is ready for a big change'\n",
    "word = 'he'\n",
    "\n",
    "for wrd in txt.split(' '):\n",
    "    if(wrd[-2:].lower() == word.lower()):\n",
    "        print(wrd)"
   ]
  },
  {
   "cell_type": "code",
   "execution_count": 41,
   "id": "8ac1ed88-c079-4875-9376-2c0e5a7192e7",
   "metadata": {},
   "outputs": [
    {
     "name": "stdout",
     "output_type": "stream",
     "text": [
      "AI is\n",
      "is having\n",
      "having the\n",
      "the capability\n",
      "capability to\n",
      "to revolutionize\n",
      "revolutionize all\n",
      "all the\n",
      "the industries.\n",
      "industries. The\n",
      "The Industry\n",
      "Industry is\n",
      "is ready\n",
      "ready for\n",
      "for a\n",
      "a big\n",
      "big change\n"
     ]
    }
   ],
   "source": [
    "txt = 'AI is having the capability to revolutionize all the industries. The Industry is ready for a big change'\n",
    "\n",
    "for i in range(len(txt.split(' '))-1):\n",
    "    print(txt.split(' ')[i], txt.split(' ')[i + 1])"
   ]
  },
  {
   "cell_type": "markdown",
   "id": "e6ff0e02-4a16-4783-8fa8-fcdf1008ce1d",
   "metadata": {},
   "source": [
    "# DIY Pattern Matching- Email Extraction"
   ]
  },
  {
   "cell_type": "code",
   "execution_count": 42,
   "id": "b7a9a3d3-d691-459a-b709-4d82889028bf",
   "metadata": {},
   "outputs": [
    {
     "name": "stdout",
     "output_type": "stream",
     "text": [
      "['eshant', 'eshant', 'eshant', 'eshant', 'esh', 'esh', 'eshant']\n",
      "['gmail', 'gfg', 'yahoo', 'aap', 'geeksforgeeks', 'mail', 'orkut']\n",
      "['com', 'org', 'com', 'gov.in', 'com', 'com', 'com']\n"
     ]
    }
   ],
   "source": [
    "mails = ['eshant@gmail.com','eshant@gfg.org','eshant@yahoo.com','eshant@aap.gov.in','esh@geeksforgeeks.com','esh@mail.com','eshant@orkut.com']\n",
    "\n",
    "user_id = []\n",
    "host_name = []\n",
    "domain_type = []\n",
    "for mail in mails:\n",
    "    user_id.append(mail.split('@')[0])\n",
    "    host_name.append(mail.split('@')[1].split('.')[0])\n",
    "    domain_type.append('.'.join(mail.split('@')[1].split('.')[1:]))\n",
    "\n",
    "print(user_id) \n",
    "print(host_name)  \n",
    "print(domain_type) "
   ]
  }
 ],
 "metadata": {
  "kernelspec": {
   "display_name": "Python (base)",
   "language": "python",
   "name": "base"
  },
  "language_info": {
   "codemirror_mode": {
    "name": "ipython",
    "version": 3
   },
   "file_extension": ".py",
   "mimetype": "text/x-python",
   "name": "python",
   "nbconvert_exporter": "python",
   "pygments_lexer": "ipython3",
   "version": "3.11.7"
  }
 },
 "nbformat": 4,
 "nbformat_minor": 5
}
