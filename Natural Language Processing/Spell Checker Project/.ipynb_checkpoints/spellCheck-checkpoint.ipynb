{
 "cells": [
  {
   "cell_type": "code",
   "execution_count": 1,
   "id": "e34c1513-5236-481d-b645-de30fc1be65a",
   "metadata": {},
   "outputs": [],
   "source": [
    "import re\n",
    "import pandas as pd\n",
    "from tqdm import tqdm"
   ]
  },
  {
   "cell_type": "code",
   "execution_count": 2,
   "id": "9b793f4f-fa33-44b1-a0b0-6d294cbc3edc",
   "metadata": {},
   "outputs": [],
   "source": [
    "fd = open('big.txt','r')\n",
    "txt = fd.read()\n",
    "fd.close()"
   ]
  },
  {
   "cell_type": "code",
   "execution_count": 3,
   "id": "b6939501-52da-4d15-87fc-8817bb07e6f6",
   "metadata": {},
   "outputs": [
    {
     "data": {
      "text/plain": [
       "6488666"
      ]
     },
     "execution_count": 3,
     "metadata": {},
     "output_type": "execute_result"
    }
   ],
   "source": [
    "len(txt)"
   ]
  },
  {
   "cell_type": "markdown",
   "id": "ec1e54aa-14c6-4d64-97d5-57c693b69a69",
   "metadata": {},
   "source": [
    "## Get the unique words"
   ]
  },
  {
   "cell_type": "code",
   "execution_count": 4,
   "id": "b324143e-a13b-497e-b2e1-b652dd432733",
   "metadata": {},
   "outputs": [
    {
     "name": "stdout",
     "output_type": "stream",
     "text": [
      "1115585\n",
      "32198\n"
     ]
    }
   ],
   "source": [
    "with open('big.txt','r') as fd:\n",
    "    lines = fd.readlines()\n",
    "    words = []\n",
    "    for line in lines:\n",
    "        words += re.findall('\\w+',line.lower())\n",
    "        \n",
    "print(len(words))\n",
    "vocab = list(set(words))\n",
    "print(len(vocab))"
   ]
  },
  {
   "cell_type": "markdown",
   "id": "a0f6a613-0624-463f-b25a-e61433243a9d",
   "metadata": {},
   "source": [
    "# Finding the Probability Distribution"
   ]
  },
  {
   "cell_type": "code",
   "execution_count": 6,
   "id": "80decf12-96da-4ac7-981e-727ed875ce21",
   "metadata": {},
   "outputs": [
    {
     "data": {
      "text/plain": [
       "79809"
      ]
     },
     "execution_count": 6,
     "metadata": {},
     "output_type": "execute_result"
    }
   ],
   "source": [
    "words.count('the')"
   ]
  },
  {
   "cell_type": "code",
   "execution_count": 7,
   "id": "d1e059b3-1e27-459a-8c7d-b2a77246211e",
   "metadata": {},
   "outputs": [
    {
     "name": "stderr",
     "output_type": "stream",
     "text": [
      "100%|████████████████████████████████████████████████████████████████████████████| 32198/32198 [11:22<00:00, 47.18it/s]\n"
     ]
    }
   ],
   "source": [
    "word_probability = {}\n",
    "\n",
    "for word in tqdm(vocab):\n",
    "    word_probability[word] = float(words.count(word)/len(words))"
   ]
  },
  {
   "cell_type": "markdown",
   "id": "9f1c48f9-a5f1-444d-8429-595ab309a7e7",
   "metadata": {},
   "source": [
    "# Text Preprocessing"
   ]
  },
  {
   "cell_type": "markdown",
   "id": "a8f4b92f-6a51-4e0a-a73f-f138d921be7b",
   "metadata": {},
   "source": [
    "### Splitting"
   ]
  },
  {
   "cell_type": "code",
   "execution_count": 9,
   "id": "a1d02969-9894-432a-bfe3-b2260f607ee6",
   "metadata": {},
   "outputs": [
    {
     "data": {
      "text/plain": [
       "[('', 'Abhinav'),\n",
       " ('A', 'bhinav'),\n",
       " ('Ab', 'hinav'),\n",
       " ('Abh', 'inav'),\n",
       " ('Abhi', 'nav'),\n",
       " ('Abhin', 'av'),\n",
       " ('Abhina', 'v'),\n",
       " ('Abhinav', '')]"
      ]
     },
     "execution_count": 9,
     "metadata": {},
     "output_type": "execute_result"
    }
   ],
   "source": [
    "def split(word):  \n",
    "    parts = []\n",
    "    for i in range(len(word) + 1):\n",
    "        parts += [(word[ : i], word[i : ])]\n",
    "    return parts\n",
    "\n",
    "split(\"Abhinav\")"
   ]
  },
  {
   "cell_type": "markdown",
   "id": "8cfb2f0d-3937-4339-83f3-0a1de5049178",
   "metadata": {},
   "source": [
    "### 3.1) Delete"
   ]
  },
  {
   "cell_type": "code",
   "execution_count": 14,
   "id": "b3da2a72-f714-4400-a4cd-677e64dc9a69",
   "metadata": {},
   "outputs": [
    {
     "data": {
      "text/plain": [
       "['eallo', 'hallo', 'hello', 'healo', 'healo', 'heall', 'heallo']"
      ]
     },
     "execution_count": 14,
     "metadata": {},
     "output_type": "execute_result"
    }
   ],
   "source": [
    "# loave -> love\n",
    "\n",
    "def delete(word):\n",
    "    \n",
    "    output = []\n",
    "    for l,r in split(word):\n",
    "        output.append(l + r[1:])\n",
    "    return output\n",
    "\n",
    "delete('heallo')"
   ]
  },
  {
   "cell_type": "markdown",
   "id": "e3b1c73a-c280-4544-914c-130a2c3bd162",
   "metadata": {},
   "source": [
    "### 3.2) Swap"
   ]
  },
  {
   "cell_type": "code",
   "execution_count": 10,
   "id": "70da8a77-1b58-479a-8126-7d6765fa5d8d",
   "metadata": {},
   "outputs": [
    {
     "data": {
      "text/plain": [
       "['vloe', 'love', 'lveo']"
      ]
     },
     "execution_count": 10,
     "metadata": {},
     "output_type": "execute_result"
    }
   ],
   "source": [
    "# lvoe -> love\n",
    "\n",
    "def swap(word):\n",
    "        \n",
    "    output = []    \n",
    "    for l,r in split(word):\n",
    "        if (len(r) > 1):\n",
    "            output.append(l + r[1] + r[0] + r[2:])\n",
    "    return output\n",
    "            \n",
    "swap('lvoe')"
   ]
  },
  {
   "cell_type": "markdown",
   "id": "45b69a34-8de7-4653-9d83-f5ff3bfa0506",
   "metadata": {},
   "source": [
    "### 3.3) Replace"
   ]
  },
  {
   "cell_type": "code",
   "execution_count": 12,
   "id": "1a7fd7bc-4917-4ac8-81b2-566a16d5cc3b",
   "metadata": {},
   "outputs": [
    {
     "data": {
      "text/plain": [
       "130"
      ]
     },
     "execution_count": 12,
     "metadata": {},
     "output_type": "execute_result"
    }
   ],
   "source": [
    "# 'lave' -> love\n",
    "\n",
    "def replace(word):\n",
    "    \n",
    "    characters = 'abcdefghijklmnopqrstuvwxyz'\n",
    "    output = []    \n",
    "\n",
    "    for l,r in split(word):\n",
    "        for char in characters:\n",
    "            output.append(l + char +  r[1:])\n",
    "    return output\n",
    "\n",
    "len(replace('lave'))"
   ]
  },
  {
   "cell_type": "markdown",
   "id": "668ad987-509f-456a-9ba2-3a5a6e75782f",
   "metadata": {},
   "source": [
    "### 3.4) Insert"
   ]
  },
  {
   "cell_type": "code",
   "execution_count": 13,
   "id": "3de314c2-4c2a-4889-8dc8-c1dcfba5a6ca",
   "metadata": {},
   "outputs": [
    {
     "data": {
      "text/plain": [
       "104"
      ]
     },
     "execution_count": 13,
     "metadata": {},
     "output_type": "execute_result"
    }
   ],
   "source": [
    "# lve - > love\n",
    "\n",
    "def insert(word):\n",
    "\n",
    "    characters = 'abcdefghijklmnopqrstuvwxyz'\n",
    "    output = []\n",
    "\n",
    "    for l,r in split(word):\n",
    "        for char in characters:\n",
    "            output.append(l + char + r)\n",
    "\n",
    "    return output\n",
    "\n",
    "len(insert('lve'))"
   ]
  },
  {
   "cell_type": "markdown",
   "id": "4662c10e-9718-4536-86d8-bb406f82faf4",
   "metadata": {},
   "source": [
    "# Finding the Prediction (Level - 1)"
   ]
  },
  {
   "cell_type": "markdown",
   "id": "9c5d82e2-17f3-4401-ba8c-b61f2f595492",
   "metadata": {},
   "source": [
    "### Combining Possible Words"
   ]
  },
  {
   "cell_type": "code",
   "execution_count": 15,
   "id": "da08aa9c-454e-4c69-8afc-3adaef3ce61e",
   "metadata": {},
   "outputs": [],
   "source": [
    "def edit(word):   \n",
    "    return list(set(insert(word) + delete(word) + swap(word) + replace(word)))"
   ]
  },
  {
   "cell_type": "markdown",
   "id": "c9d34dd6-8a08-45df-b88b-4a9d9afd5f57",
   "metadata": {},
   "source": [
    "###  Predicting the Word"
   ]
  },
  {
   "cell_type": "code",
   "execution_count": 16,
   "id": "fc7d8c99-6593-4e21-b23a-efbd5bff95a6",
   "metadata": {},
   "outputs": [],
   "source": [
    "def spell_check_edit_1(word, count = 5):\n",
    "    \n",
    "    output = []\n",
    "    suggested_words = edit(word)\n",
    "    \n",
    "    for wrd in suggested_words:        \n",
    "        if wrd in word_probability.keys():\n",
    "            output.append([wrd, word_probability[wrd]])\n",
    "            \n",
    "    return list(pd.DataFrame(output, columns = ['word','prob']).sort_values(by = 'prob', ascending = False).head(count)['word'].values)"
   ]
  },
  {
   "cell_type": "markdown",
   "id": "6b562afd-1f6e-42cf-8344-85a986dc304c",
   "metadata": {},
   "source": [
    "#  Finding the Prediction (Level - 2)"
   ]
  },
  {
   "cell_type": "markdown",
   "id": "ec401536-cf3a-4d4e-a4a0-c3db03b02d71",
   "metadata": {},
   "source": [
    "### Combining Possible Words"
   ]
  },
  {
   "cell_type": "code",
   "execution_count": 17,
   "id": "76ca11f5-23d6-40a5-933e-a6ec4e9044a9",
   "metadata": {},
   "outputs": [
    {
     "data": {
      "text/plain": [
       "['family', 'namely', 'fame', 'camelia', 'camel']"
      ]
     },
     "execution_count": 17,
     "metadata": {},
     "output_type": "execute_result"
    }
   ],
   "source": [
    "def spell_check_edit_2(word, count = 5):\n",
    "    \n",
    "    output = []\n",
    "    suggested_words = edit(word)       # Level one Edit\n",
    "    \n",
    "    for e1 in edit(word):\n",
    "        suggested_words += edit(e1)    # Second Level Edit \n",
    "    \n",
    "    suggested_words = list(set(suggested_words))\n",
    "    \n",
    "    for wrd in suggested_words:\n",
    "        if wrd in word_probability.keys():\n",
    "            output.append([wrd, word_probability[wrd]])\n",
    "    return list(pd.DataFrame(output, columns = ['word','prob']).sort_values(by = 'prob', ascending = False).head(count)['word'].values)\n",
    "        \n",
    "spell_check_edit_2('fameli')"
   ]
  },
  {
   "cell_type": "code",
   "execution_count": null,
   "id": "32a48836-8916-4ffe-ab1b-6322464211bf",
   "metadata": {},
   "outputs": [],
   "source": []
  },
  {
   "cell_type": "code",
   "execution_count": null,
   "id": "5898fe07-dfa5-489d-b12a-63c37af1a3d6",
   "metadata": {},
   "outputs": [],
   "source": []
  }
 ],
 "metadata": {
  "kernelspec": {
   "display_name": "Python 3 (ipykernel)",
   "language": "python",
   "name": "python3"
  },
  "language_info": {
   "codemirror_mode": {
    "name": "ipython",
    "version": 3
   },
   "file_extension": ".py",
   "mimetype": "text/x-python",
   "name": "python",
   "nbconvert_exporter": "python",
   "pygments_lexer": "ipython3",
   "version": "3.11.7"
  }
 },
 "nbformat": 4,
 "nbformat_minor": 5
}
