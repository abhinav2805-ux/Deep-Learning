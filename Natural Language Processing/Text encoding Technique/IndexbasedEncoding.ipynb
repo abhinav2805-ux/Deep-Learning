{
 "cells": [
  {
   "cell_type": "code",
   "execution_count": 1,
   "id": "96c0f5b9-8b5d-46e7-80be-e871b74f1c9f",
   "metadata": {},
   "outputs": [],
   "source": [
    "from nltk.tokenize import word_tokenize, sent_tokenize\n",
    "from nltk.corpus import stopwords\n",
    "\n",
    "\n",
    "corpus = 'India, officially the Republic of India, is a country in South Asia. It is the seventh-largest country by area, the second-most populous country, and the most populous democracy in the world. Bounded by the Indian Ocean on the south, the Arabian Sea on the southwest, and the Bay of Bengal on the southeast, it shares land borders with Pakistan to the west; China, Nepal, and Bhutan to the north; and Bangladesh and Myanmar to the east. In the Indian Ocean, India is in the vicinity of Sri Lanka and the Maldives; its Andaman and Nicobar Islands share a maritime border with Thailand, Myanmar and Indonesia.'"
   ]
  },
  {
   "cell_type": "markdown",
   "id": "592613c0-c767-49ab-8d6e-cb10ba50e69e",
   "metadata": {},
   "source": [
    "# Stop Word Removal"
   ]
  },
  {
   "cell_type": "code",
   "execution_count": 2,
   "id": "c473e0e6-4673-4898-a580-ce959f9464b2",
   "metadata": {},
   "outputs": [],
   "source": [
    "words = []\n",
    "\n",
    "for word in word_tokenize(corpus):\n",
    "    if (word.lower() not in stopwords.words('english')) and (len(word) >= 2):\n",
    "        words.append(word.lower())"
   ]
  },
  {
   "cell_type": "markdown",
   "id": "64cfeeb5-58a1-463d-bdb8-2e488e7ca137",
   "metadata": {},
   "source": [
    "# Creating Vocab"
   ]
  },
  {
   "cell_type": "code",
   "execution_count": 3,
   "id": "f5045333-1015-46d6-ad36-dd1582536758",
   "metadata": {},
   "outputs": [],
   "source": [
    "vocab = list(set(words))"
   ]
  },
  {
   "cell_type": "code",
   "execution_count": 4,
   "id": "1749e4c6-2b9f-41fb-8e28-5e805336f1c6",
   "metadata": {},
   "outputs": [
    {
     "data": {
      "text/plain": [
       "45"
      ]
     },
     "execution_count": 4,
     "metadata": {},
     "output_type": "execute_result"
    }
   ],
   "source": [
    "len(vocab)"
   ]
  },
  {
   "cell_type": "markdown",
   "id": "40d639a1-37fc-41d3-b517-4f0fa77d2bcd",
   "metadata": {},
   "source": [
    "# Creating Encoders and Decoders"
   ]
  },
  {
   "cell_type": "code",
   "execution_count": 5,
   "id": "60caa7e8-4c45-407e-bc71-5fabaa0f8397",
   "metadata": {},
   "outputs": [],
   "source": [
    "\n",
    "num = 1\n",
    "\n",
    "word_to_num = {}\n",
    "num_to_word = {}\n",
    "\n",
    "for word in vocab:\n",
    "    word_to_num[word] = num\n",
    "    num_to_word[num] = word\n",
    "    num += 1"
   ]
  },
  {
   "cell_type": "markdown",
   "id": "d49ea138-b5b3-4caf-817e-d7f8e42132b2",
   "metadata": {},
   "source": [
    "# Encoding Sentences"
   ]
  },
  {
   "cell_type": "code",
   "execution_count": 6,
   "id": "bac4df0f-5763-4976-8636-484091be003d",
   "metadata": {},
   "outputs": [
    {
     "name": "stdout",
     "output_type": "stream",
     "text": [
      "India officially Republic India country South Asia \n",
      "[6, 30, 26, 6, 37, 45, 36]\n",
      "seventh-largest country area second-most populous country populous democracy world \n",
      "[9, 37, 35, 28, 29, 37, 29, 34, 25]\n",
      "Bounded Indian Ocean south Arabian Sea southwest Bay Bengal southeast shares land borders Pakistan west China Nepal Bhutan north Bangladesh Myanmar east \n",
      "[33, 42, 8, 45, 32, 43, 11, 1, 17, 23, 44, 12, 18, 40, 22, 7, 14, 24, 5, 38, 15, 21]\n",
      "Indian Ocean India vicinity Sri Lanka Maldives Andaman Nicobar Islands share maritime border Thailand Myanmar Indonesia \n",
      "[42, 8, 6, 10, 19, 4, 39, 41, 13, 27, 16, 2, 3, 20, 15, 31]\n"
     ]
    }
   ],
   "source": [
    "data = []\n",
    "\n",
    "for sent in sent_tokenize(corpus):\n",
    "    temp = []\n",
    "    for word in word_tokenize(sent):\n",
    "        if (word.lower() not in stopwords.words('english') and (len(word) >= 2)):\n",
    "            print(word, end = ' ')\n",
    "            temp.append(word_to_num[word.lower()])\n",
    "    print()            \n",
    "    print(temp)\n",
    "    \n",
    "    data.append(temp)"
   ]
  },
  {
   "cell_type": "markdown",
   "id": "3dff39c6-53a8-4872-a458-a2d9100b5b15",
   "metadata": {},
   "source": [
    "# Decoding Sentences"
   ]
  },
  {
   "cell_type": "code",
   "execution_count": 7,
   "id": "70c936c8-ff76-45fd-ba33-e9e7da85abe1",
   "metadata": {},
   "outputs": [
    {
     "name": "stdout",
     "output_type": "stream",
     "text": [
      "india officially republic india country south asia \n",
      "seventh-largest country area second-most populous country populous democracy world \n",
      "bounded indian ocean south arabian sea southwest bay bengal southeast shares land borders pakistan west china nepal bhutan north bangladesh myanmar east \n",
      "indian ocean india vicinity sri lanka maldives andaman nicobar islands share maritime border thailand myanmar indonesia \n"
     ]
    }
   ],
   "source": [
    "for sent in data:\n",
    "    for word in sent:\n",
    "        print(num_to_word[word], end = ' ')\n",
    "        \n",
    "    print()"
   ]
  },
  {
   "cell_type": "code",
   "execution_count": 9,
   "id": "90afce3f-94b8-490e-85c1-4e3e4fe9ca96",
   "metadata": {},
   "outputs": [
    {
     "name": "stdout",
     "output_type": "stream",
     "text": [
      "populous maldives indian populous nicobar area bengal "
     ]
    }
   ],
   "source": [
    "for i in [29,39,42,29,13,35,17]:\n",
    "    print(num_to_word[i] , end = ' ')"
   ]
  },
  {
   "cell_type": "code",
   "execution_count": 11,
   "id": "1dfab17d-6278-4974-b0c7-848cfee40c5d",
   "metadata": {},
   "outputs": [
    {
     "data": {
      "text/plain": [
       "45"
      ]
     },
     "execution_count": 11,
     "metadata": {},
     "output_type": "execute_result"
    }
   ],
   "source": [
    "len(num_to_word)"
   ]
  },
  {
   "cell_type": "code",
   "execution_count": 15,
   "id": "3bff7186-30a5-4475-85c0-781adc602727",
   "metadata": {},
   "outputs": [
    {
     "name": "stdout",
     "output_type": "stream",
     "text": [
      "(1, 'bay')\n",
      "(2, 'maritime')\n",
      "(3, 'border')\n",
      "(4, 'lanka')\n",
      "(5, 'north')\n",
      "(6, 'india')\n",
      "(7, 'china')\n",
      "(8, 'ocean')\n",
      "(9, 'seventh-largest')\n",
      "(10, 'vicinity')\n",
      "(11, 'southwest')\n",
      "(12, 'land')\n",
      "(13, 'nicobar')\n",
      "(14, 'nepal')\n",
      "(15, 'myanmar')\n",
      "(16, 'share')\n",
      "(17, 'bengal')\n",
      "(18, 'borders')\n",
      "(19, 'sri')\n",
      "(20, 'thailand')\n",
      "(21, 'east')\n",
      "(22, 'west')\n",
      "(23, 'southeast')\n",
      "(24, 'bhutan')\n",
      "(25, 'world')\n",
      "(26, 'republic')\n",
      "(27, 'islands')\n",
      "(28, 'second-most')\n",
      "(29, 'populous')\n",
      "(30, 'officially')\n",
      "(31, 'indonesia')\n",
      "(32, 'arabian')\n",
      "(33, 'bounded')\n",
      "(34, 'democracy')\n",
      "(35, 'area')\n",
      "(36, 'asia')\n",
      "(37, 'country')\n",
      "(38, 'bangladesh')\n",
      "(39, 'maldives')\n",
      "(40, 'pakistan')\n",
      "(41, 'andaman')\n",
      "(42, 'indian')\n",
      "(43, 'sea')\n",
      "(44, 'shares')\n",
      "(45, 'south')\n"
     ]
    }
   ],
   "source": [
    "for x in num_to_word.items():\n",
    "    print(x)"
   ]
  },
  {
   "cell_type": "code",
   "execution_count": null,
   "id": "0e371914-8a2d-429c-bb33-e053f81aedeb",
   "metadata": {},
   "outputs": [],
   "source": []
  }
 ],
 "metadata": {
  "kernelspec": {
   "display_name": "Python (base)",
   "language": "python",
   "name": "base"
  },
  "language_info": {
   "codemirror_mode": {
    "name": "ipython",
    "version": 3
   },
   "file_extension": ".py",
   "mimetype": "text/x-python",
   "name": "python",
   "nbconvert_exporter": "python",
   "pygments_lexer": "ipython3",
   "version": "3.11.7"
  }
 },
 "nbformat": 4,
 "nbformat_minor": 5
}
