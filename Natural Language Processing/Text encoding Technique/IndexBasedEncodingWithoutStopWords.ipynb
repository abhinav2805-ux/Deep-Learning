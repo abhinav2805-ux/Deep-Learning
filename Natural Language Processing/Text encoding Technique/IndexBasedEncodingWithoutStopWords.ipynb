{
 "cells": [
  {
   "cell_type": "code",
   "execution_count": 1,
   "id": "d95030c8-1d80-49b9-999d-3db57217ed7f",
   "metadata": {},
   "outputs": [],
   "source": [
    "from nltk.tokenize import word_tokenize, sent_tokenize\n",
    "from nltk.corpus import stopwords\n",
    "\n",
    "corpus = 'India, officially the Republic of India, is a country in South Asia. It is the seventh-largest country by area, the second-most populous country, and the most populous democracy in the world. Bounded by the Indian Ocean on the south, the Arabian Sea on the southwest, and the Bay of Bengal on the southeast, it shares land borders with Pakistan to the west; China, Nepal, and Bhutan to the north; and Bangladesh and Myanmar to the east. In the Indian Ocean, India is in the vicinity of Sri Lanka and the Maldives; its Andaman and Nicobar Islands share a maritime border with Thailand, Myanmar and Indonesia.'"
   ]
  },
  {
   "cell_type": "markdown",
   "id": "03c6b63d-b879-4cb7-a9a7-2954dce90091",
   "metadata": {},
   "source": [
    "# Remove Special Characters"
   ]
  },
  {
   "cell_type": "code",
   "execution_count": 2,
   "id": "1ec90def-56a9-449e-8050-aaa83a6d161c",
   "metadata": {},
   "outputs": [],
   "source": [
    "words = []\n",
    "\n",
    "for word in word_tokenize(corpus):\n",
    "    if (len(word) == 1):\n",
    "        if ((ord(word) >= 97 and ord(word) <= 122) or (ord(word) >= 65 and ord(word) <= 90)):\n",
    "            words.append(word.lower())\n",
    "    else:\n",
    "        words.append(word.lower())"
   ]
  },
  {
   "cell_type": "markdown",
   "id": "8d8dba08-52d9-4e0c-a9e3-63bde96d6264",
   "metadata": {},
   "source": [
    "# Creating Vocab"
   ]
  },
  {
   "cell_type": "code",
   "execution_count": 3,
   "id": "86b2b9f6-607e-4846-aa99-2d67f4410c65",
   "metadata": {},
   "outputs": [
    {
     "data": {
      "text/plain": [
       "58"
      ]
     },
     "execution_count": 3,
     "metadata": {},
     "output_type": "execute_result"
    }
   ],
   "source": [
    "vocab = list(set(words))\n",
    "len(vocab)"
   ]
  },
  {
   "cell_type": "markdown",
   "id": "bbb8724d-a57b-4a90-8074-876d62a793ee",
   "metadata": {},
   "source": [
    "# Creating Encoders and Decoders"
   ]
  },
  {
   "cell_type": "code",
   "execution_count": 4,
   "id": "dc788f9a-f040-4cd7-b662-84242cde8466",
   "metadata": {},
   "outputs": [],
   "source": [
    "num = 1\n",
    "\n",
    "word_to_num = {}\n",
    "num_to_word = {}\n",
    "\n",
    "for word in vocab:\n",
    "    word_to_num[word] = num\n",
    "    num_to_word[num] = word\n",
    "    num += 1"
   ]
  },
  {
   "cell_type": "markdown",
   "id": "f7e67094-46ae-46f9-81d5-63f139817cbb",
   "metadata": {},
   "source": [
    "# Encoding Sentences"
   ]
  },
  {
   "cell_type": "code",
   "execution_count": 5,
   "id": "51ca329c-8714-4fcc-be0c-ec2716557aaa",
   "metadata": {},
   "outputs": [],
   "source": [
    "data = []\n",
    "\n",
    "for sent in sent_tokenize(corpus):\n",
    "    temp = []\n",
    "    for word in word_tokenize(sent):\n",
    "        if (len(word) == 1):\n",
    "            if ((ord(word) >= 97 and ord(word) <= 122) or (ord(word) >= 65 and ord(word) <= 90)):\n",
    "                temp.append(word_to_num[word.lower()])\n",
    "        else:\n",
    "            temp.append(word_to_num[word.lower()])\n",
    "\n",
    "    data.append(temp)"
   ]
  },
  {
   "cell_type": "markdown",
   "id": "4558bfc4-e6ea-4dda-962c-7a6466f91911",
   "metadata": {},
   "source": [
    "# Decoding Sentences"
   ]
  },
  {
   "cell_type": "code",
   "execution_count": 6,
   "id": "c76f5f87-65cc-4d14-8a82-ac5a6de294a9",
   "metadata": {},
   "outputs": [
    {
     "name": "stdout",
     "output_type": "stream",
     "text": [
      "india officially the republic of india is a country in south asia \n",
      "it is the seventh-largest country by area the second-most populous country and the most populous democracy in the world \n",
      "bounded by the indian ocean on the south the arabian sea on the southwest and the bay of bengal on the southeast it shares land borders with pakistan to the west china nepal and bhutan to the north and bangladesh and myanmar to the east \n",
      "in the indian ocean india is in the vicinity of sri lanka and the maldives its andaman and nicobar islands share a maritime border with thailand myanmar and indonesia \n"
     ]
    }
   ],
   "source": [
    "for sent in data:\n",
    "    for word in sent:\n",
    "        print(num_to_word[word], end = ' ')\n",
    "        \n",
    "    print()"
   ]
  },
  {
   "cell_type": "code",
   "execution_count": 7,
   "id": "059d263d-e5d0-4ce9-bf02-3461411beac6",
   "metadata": {},
   "outputs": [
    {
     "name": "stdout",
     "output_type": "stream",
     "text": [
      "44 6 32 27 49 44 8 12 21 26 20 16 \n",
      "11 8 32 10 21 5 33 32 17 42 21 29 32 4 42 7 26 32 46 \n",
      "57 5 32 30 39 54 32 20 32 3 45 54 32 43 29 32 55 49 34 54 32 1 11 56 47 22 24 50 13 32 2 23 15 29 40 13 32 51 29 41 29 38 13 32 25 \n",
      "26 32 30 39 44 8 26 32 35 49 37 48 29 32 9 36 14 29 52 18 28 12 53 19 24 58 38 29 31 \n"
     ]
    }
   ],
   "source": [
    "for sent in data:\n",
    "    for word in sent:\n",
    "        print(word, end  = ' ')\n",
    "        \n",
    "    print()"
   ]
  },
  {
   "cell_type": "code",
   "execution_count": null,
   "id": "6d4e0226-559c-45b4-b90c-074b189e9c0c",
   "metadata": {},
   "outputs": [],
   "source": []
  },
  {
   "cell_type": "code",
   "execution_count": null,
   "id": "8c4057ad-566d-487f-90fe-e866f1f470a1",
   "metadata": {},
   "outputs": [],
   "source": []
  }
 ],
 "metadata": {
  "kernelspec": {
   "display_name": "Python (base)",
   "language": "python",
   "name": "base"
  },
  "language_info": {
   "codemirror_mode": {
    "name": "ipython",
    "version": 3
   },
   "file_extension": ".py",
   "mimetype": "text/x-python",
   "name": "python",
   "nbconvert_exporter": "python",
   "pygments_lexer": "ipython3",
   "version": "3.11.7"
  }
 },
 "nbformat": 4,
 "nbformat_minor": 5
}
