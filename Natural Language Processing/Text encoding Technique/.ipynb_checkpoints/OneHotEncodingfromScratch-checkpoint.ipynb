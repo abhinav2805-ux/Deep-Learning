{
 "cells": [
  {
   "cell_type": "code",
   "execution_count": 1,
   "id": "44ae238e-e038-431e-a544-b0902c335378",
   "metadata": {},
   "outputs": [],
   "source": [
    "import pandas as pd\n",
    "from nltk.tokenize import word_tokenize, sent_tokenize\n",
    "\n",
    "corpus = 'GeeksforGeeks is not a website or a company. GeeksforGeeks is a coding environment. Thats what i love. Which is good. Not bad at all'"
   ]
  },
  {
   "cell_type": "markdown",
   "id": "06556067-6e6b-4857-9bdd-8f479b5de048",
   "metadata": {},
   "source": [
    "# One Hot Encoding - Terminologies and Process"
   ]
  },
  {
   "cell_type": "code",
   "execution_count": null,
   "id": "267cbf7d-cf17-4d77-9a04-a3d12905518e",
   "metadata": {},
   "outputs": [],
   "source": [
    "                    ['all','at', 'bad', 'not','its']\n",
    "'its not bad at all'     [1 , 1 , 1 , 1 , 1] \n",
    "'its not bad'            [0 , 0 , 1 , 1 , 1] \n",
    "'its bad'                [0 , 0 , 1 , 0 , 1] \n",
    "'not bad at all'         [1 , 1 , 1 , 1 , 0]"
   ]
  },
  {
   "cell_type": "markdown",
   "id": "58fce753-6d4f-4697-b960-7a8e5c76d32c",
   "metadata": {},
   "source": [
    "# Finding the Sequence"
   ]
  },
  {
   "cell_type": "code",
   "execution_count": 3,
   "id": "4e8230ad-a884-4156-9ad2-dd45bd72ebaf",
   "metadata": {},
   "outputs": [
    {
     "name": "stdout",
     "output_type": "stream",
     "text": [
      "['i', 'not', 'is', 'what', 'love', 'Not', 'good', 'at', 'coding', 'GeeksforGeeks', 'website', 'company', 'Thats', 'bad', 'Which', 'all', 'or', 'a', 'environment']\n"
     ]
    }
   ],
   "source": [
    "seq = set()\n",
    "\n",
    "for word in word_tokenize(corpus):\n",
    "    if(word != '.'):\n",
    "        seq.add(word)\n",
    "        \n",
    "seq = list(seq)\n",
    "\n",
    "print(seq)"
   ]
  },
  {
   "cell_type": "markdown",
   "id": "7e76d6ff-f9aa-4b66-b5f9-abf2f30206b5",
   "metadata": {},
   "source": [
    "# Finding Index to Encode"
   ]
  },
  {
   "cell_type": "code",
   "execution_count": 6,
   "id": "a76f6189-2a0a-4151-83a9-11d2ff4e3191",
   "metadata": {},
   "outputs": [
    {
     "name": "stdout",
     "output_type": "stream",
     "text": [
      "[[9, 2, 1, 17, 10, 16, 17, 11], [9, 2, 17, 8, 18], [12, 3, 0, 4], [14, 2, 6], [5, 13, 7, 15]]\n"
     ]
    }
   ],
   "source": [
    "data = []\n",
    "\n",
    "for sent in sent_tokenize(corpus):\n",
    "    index = []\n",
    "    for word in word_tokenize(sent):\n",
    "        if(word != '.'):\n",
    "            index.append(seq.index(word))\n",
    "            \n",
    "    data.append(index)\n",
    "\n",
    "print(data)"
   ]
  },
  {
   "cell_type": "markdown",
   "id": "8cd97040-dc56-47f3-87a9-25686c3b454a",
   "metadata": {},
   "source": [
    "# Encode the Sentances in One Hot Encoding Format"
   ]
  },
  {
   "cell_type": "code",
   "execution_count": 8,
   "id": "593c4bb1-b916-4592-a583-65c4c5774632",
   "metadata": {},
   "outputs": [
    {
     "name": "stdout",
     "output_type": "stream",
     "text": [
      "[[0, 1, 1, 0, 0, 0, 0, 0, 0, 1, 1, 1, 0, 0, 0, 0, 1, 1, 0], [0, 0, 1, 0, 0, 0, 0, 0, 1, 1, 0, 0, 0, 0, 0, 0, 0, 1, 1], [1, 0, 0, 1, 1, 0, 0, 0, 0, 0, 0, 0, 1, 0, 0, 0, 0, 0, 0], [0, 0, 1, 0, 0, 0, 1, 0, 0, 0, 0, 0, 0, 0, 1, 0, 0, 0, 0], [0, 0, 0, 0, 0, 1, 0, 1, 0, 0, 0, 0, 0, 1, 0, 1, 0, 0, 0]]\n"
     ]
    }
   ],
   "source": [
    "fin = []\n",
    "\n",
    "for indexes in data:\n",
    "    enc = [0 for x in range(len(seq))]\n",
    "    for index in indexes:\n",
    "        enc[index] = 1\n",
    "    fin.append(enc)\n",
    "\n",
    "print(fin)"
   ]
  },
  {
   "cell_type": "markdown",
   "id": "55b7bd94-ede1-4845-80e0-dc2ac5857404",
   "metadata": {},
   "source": [
    "# Creating the DataFrame / Dataset"
   ]
  },
  {
   "cell_type": "code",
   "execution_count": 9,
   "id": "417fc766-a020-46b2-a215-d785df3305c7",
   "metadata": {},
   "outputs": [
    {
     "data": {
      "text/html": [
       "<div>\n",
       "<style scoped>\n",
       "    .dataframe tbody tr th:only-of-type {\n",
       "        vertical-align: middle;\n",
       "    }\n",
       "\n",
       "    .dataframe tbody tr th {\n",
       "        vertical-align: top;\n",
       "    }\n",
       "\n",
       "    .dataframe thead th {\n",
       "        text-align: right;\n",
       "    }\n",
       "</style>\n",
       "<table border=\"1\" class=\"dataframe\">\n",
       "  <thead>\n",
       "    <tr style=\"text-align: right;\">\n",
       "      <th></th>\n",
       "      <th>i</th>\n",
       "      <th>not</th>\n",
       "      <th>is</th>\n",
       "      <th>what</th>\n",
       "      <th>love</th>\n",
       "      <th>Not</th>\n",
       "      <th>good</th>\n",
       "      <th>at</th>\n",
       "      <th>coding</th>\n",
       "      <th>GeeksforGeeks</th>\n",
       "      <th>website</th>\n",
       "      <th>company</th>\n",
       "      <th>Thats</th>\n",
       "      <th>bad</th>\n",
       "      <th>Which</th>\n",
       "      <th>all</th>\n",
       "      <th>or</th>\n",
       "      <th>a</th>\n",
       "      <th>environment</th>\n",
       "      <th>Sentances_</th>\n",
       "    </tr>\n",
       "  </thead>\n",
       "  <tbody>\n",
       "    <tr>\n",
       "      <th>0</th>\n",
       "      <td>0</td>\n",
       "      <td>1</td>\n",
       "      <td>1</td>\n",
       "      <td>0</td>\n",
       "      <td>0</td>\n",
       "      <td>0</td>\n",
       "      <td>0</td>\n",
       "      <td>0</td>\n",
       "      <td>0</td>\n",
       "      <td>1</td>\n",
       "      <td>1</td>\n",
       "      <td>1</td>\n",
       "      <td>0</td>\n",
       "      <td>0</td>\n",
       "      <td>0</td>\n",
       "      <td>0</td>\n",
       "      <td>1</td>\n",
       "      <td>1</td>\n",
       "      <td>0</td>\n",
       "      <td>GeeksforGeeks is not a website or a company.</td>\n",
       "    </tr>\n",
       "    <tr>\n",
       "      <th>1</th>\n",
       "      <td>0</td>\n",
       "      <td>0</td>\n",
       "      <td>1</td>\n",
       "      <td>0</td>\n",
       "      <td>0</td>\n",
       "      <td>0</td>\n",
       "      <td>0</td>\n",
       "      <td>0</td>\n",
       "      <td>1</td>\n",
       "      <td>1</td>\n",
       "      <td>0</td>\n",
       "      <td>0</td>\n",
       "      <td>0</td>\n",
       "      <td>0</td>\n",
       "      <td>0</td>\n",
       "      <td>0</td>\n",
       "      <td>0</td>\n",
       "      <td>1</td>\n",
       "      <td>1</td>\n",
       "      <td>GeeksforGeeks is a coding environment.</td>\n",
       "    </tr>\n",
       "    <tr>\n",
       "      <th>2</th>\n",
       "      <td>1</td>\n",
       "      <td>0</td>\n",
       "      <td>0</td>\n",
       "      <td>1</td>\n",
       "      <td>1</td>\n",
       "      <td>0</td>\n",
       "      <td>0</td>\n",
       "      <td>0</td>\n",
       "      <td>0</td>\n",
       "      <td>0</td>\n",
       "      <td>0</td>\n",
       "      <td>0</td>\n",
       "      <td>1</td>\n",
       "      <td>0</td>\n",
       "      <td>0</td>\n",
       "      <td>0</td>\n",
       "      <td>0</td>\n",
       "      <td>0</td>\n",
       "      <td>0</td>\n",
       "      <td>Thats what i love.</td>\n",
       "    </tr>\n",
       "    <tr>\n",
       "      <th>3</th>\n",
       "      <td>0</td>\n",
       "      <td>0</td>\n",
       "      <td>1</td>\n",
       "      <td>0</td>\n",
       "      <td>0</td>\n",
       "      <td>0</td>\n",
       "      <td>1</td>\n",
       "      <td>0</td>\n",
       "      <td>0</td>\n",
       "      <td>0</td>\n",
       "      <td>0</td>\n",
       "      <td>0</td>\n",
       "      <td>0</td>\n",
       "      <td>0</td>\n",
       "      <td>1</td>\n",
       "      <td>0</td>\n",
       "      <td>0</td>\n",
       "      <td>0</td>\n",
       "      <td>0</td>\n",
       "      <td>Which is good.</td>\n",
       "    </tr>\n",
       "    <tr>\n",
       "      <th>4</th>\n",
       "      <td>0</td>\n",
       "      <td>0</td>\n",
       "      <td>0</td>\n",
       "      <td>0</td>\n",
       "      <td>0</td>\n",
       "      <td>1</td>\n",
       "      <td>0</td>\n",
       "      <td>1</td>\n",
       "      <td>0</td>\n",
       "      <td>0</td>\n",
       "      <td>0</td>\n",
       "      <td>0</td>\n",
       "      <td>0</td>\n",
       "      <td>1</td>\n",
       "      <td>0</td>\n",
       "      <td>1</td>\n",
       "      <td>0</td>\n",
       "      <td>0</td>\n",
       "      <td>0</td>\n",
       "      <td>Not bad at all</td>\n",
       "    </tr>\n",
       "  </tbody>\n",
       "</table>\n",
       "</div>"
      ],
      "text/plain": [
       "   i  not  is  what  love  Not  good  at  coding  GeeksforGeeks  website  \\\n",
       "0  0    1   1     0     0    0     0   0       0              1        1   \n",
       "1  0    0   1     0     0    0     0   0       1              1        0   \n",
       "2  1    0   0     1     1    0     0   0       0              0        0   \n",
       "3  0    0   1     0     0    0     1   0       0              0        0   \n",
       "4  0    0   0     0     0    1     0   1       0              0        0   \n",
       "\n",
       "   company  Thats  bad  Which  all  or  a  environment  \\\n",
       "0        1      0    0      0    0   1  1            0   \n",
       "1        0      0    0      0    0   0  1            1   \n",
       "2        0      1    0      0    0   0  0            0   \n",
       "3        0      0    0      1    0   0  0            0   \n",
       "4        0      0    1      0    1   0  0            0   \n",
       "\n",
       "                                     Sentances_  \n",
       "0  GeeksforGeeks is not a website or a company.  \n",
       "1        GeeksforGeeks is a coding environment.  \n",
       "2                            Thats what i love.  \n",
       "3                                Which is good.  \n",
       "4                                Not bad at all  "
      ]
     },
     "execution_count": 9,
     "metadata": {},
     "output_type": "execute_result"
    }
   ],
   "source": [
    "df = pd.DataFrame(fin, columns = seq)\n",
    "\n",
    "df['Sentances_'] = sent_tokenize(corpus)\n",
    "df.head()"
   ]
  },
  {
   "cell_type": "code",
   "execution_count": null,
   "id": "c96a1de4-558a-406f-a77b-a1985c229832",
   "metadata": {},
   "outputs": [],
   "source": [
    "                                    ['This','is','not','bad','good','at','all']\n",
    "\n",
    "'This is good, not bad at all'      [1,1,1,1,1,1]\n",
    "'This is bad, not good at all'      [1,1,1,1,1,1]"
   ]
  },
  {
   "cell_type": "code",
   "execution_count": 10,
   "id": "7a88f666-79cc-440e-9e97-176fdf1cbb5c",
   "metadata": {},
   "outputs": [
    {
     "data": {
      "text/plain": [
       "'This is good, not bad at all'"
      ]
     },
     "execution_count": 10,
     "metadata": {},
     "output_type": "execute_result"
    }
   ],
   "source": [
    "[0 for x in range(1000)]\n",
    "\n",
    "\n",
    "\n",
    "'This is good, not bad at all' "
   ]
  },
  {
   "cell_type": "code",
   "execution_count": 11,
   "id": "aded4723-1065-4a08-99eb-6c84bb112fef",
   "metadata": {},
   "outputs": [
    {
     "data": {
      "text/plain": [
       "0.0007"
      ]
     },
     "execution_count": 11,
     "metadata": {},
     "output_type": "execute_result"
    }
   ],
   "source": [
    "(7/10000)"
   ]
  }
 ],
 "metadata": {
  "kernelspec": {
   "display_name": "Python (base)",
   "language": "python",
   "name": "base"
  },
  "language_info": {
   "codemirror_mode": {
    "name": "ipython",
    "version": 3
   },
   "file_extension": ".py",
   "mimetype": "text/x-python",
   "name": "python",
   "nbconvert_exporter": "python",
   "pygments_lexer": "ipython3",
   "version": "3.11.7"
  }
 },
 "nbformat": 4,
 "nbformat_minor": 5
}
