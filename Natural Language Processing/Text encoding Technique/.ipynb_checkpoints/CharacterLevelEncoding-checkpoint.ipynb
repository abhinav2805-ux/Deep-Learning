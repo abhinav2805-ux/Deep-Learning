{
 "cells": [
  {
   "cell_type": "markdown",
   "id": "cbf35564-456a-4a5f-9899-d264eae08618",
   "metadata": {},
   "source": [
    "# 1. Count Vectorizer with Character Level Encoding"
   ]
  },
  {
   "cell_type": "code",
   "execution_count": 1,
   "id": "674545e5-137a-442c-a6ef-f7da47cb1fd9",
   "metadata": {},
   "outputs": [
    {
     "data": {
      "text/html": [
       "<div>\n",
       "<style scoped>\n",
       "    .dataframe tbody tr th:only-of-type {\n",
       "        vertical-align: middle;\n",
       "    }\n",
       "\n",
       "    .dataframe tbody tr th {\n",
       "        vertical-align: top;\n",
       "    }\n",
       "\n",
       "    .dataframe thead th {\n",
       "        text-align: right;\n",
       "    }\n",
       "</style>\n",
       "<table border=\"1\" class=\"dataframe\">\n",
       "  <thead>\n",
       "    <tr style=\"text-align: right;\">\n",
       "      <th></th>\n",
       "      <th>t</th>\n",
       "      <th>h</th>\n",
       "      <th>i</th>\n",
       "      <th>s</th>\n",
       "      <th></th>\n",
       "      <th>a</th>\n",
       "      <th>m</th>\n",
       "      <th>p</th>\n",
       "      <th>l</th>\n",
       "      <th>e</th>\n",
       "      <th>n</th>\n",
       "      <th>c</th>\n",
       "      <th>o</th>\n",
       "      <th>r</th>\n",
       "      <th>x</th>\n",
       "    </tr>\n",
       "  </thead>\n",
       "  <tbody>\n",
       "    <tr>\n",
       "      <th>0</th>\n",
       "      <td>4</td>\n",
       "      <td>2</td>\n",
       "      <td>1</td>\n",
       "      <td>4</td>\n",
       "      <td>1</td>\n",
       "      <td>2</td>\n",
       "      <td>1</td>\n",
       "      <td>1</td>\n",
       "      <td>2</td>\n",
       "      <td>0</td>\n",
       "      <td>1</td>\n",
       "      <td>0</td>\n",
       "      <td>4</td>\n",
       "      <td>2</td>\n",
       "      <td>0</td>\n",
       "    </tr>\n",
       "    <tr>\n",
       "      <th>1</th>\n",
       "      <td>2</td>\n",
       "      <td>2</td>\n",
       "      <td>1</td>\n",
       "      <td>6</td>\n",
       "      <td>1</td>\n",
       "      <td>0</td>\n",
       "      <td>1</td>\n",
       "      <td>1</td>\n",
       "      <td>3</td>\n",
       "      <td>1</td>\n",
       "      <td>1</td>\n",
       "      <td>1</td>\n",
       "      <td>1</td>\n",
       "      <td>2</td>\n",
       "      <td>1</td>\n",
       "    </tr>\n",
       "    <tr>\n",
       "      <th>2</th>\n",
       "      <td>3</td>\n",
       "      <td>0</td>\n",
       "      <td>1</td>\n",
       "      <td>6</td>\n",
       "      <td>0</td>\n",
       "      <td>0</td>\n",
       "      <td>0</td>\n",
       "      <td>1</td>\n",
       "      <td>3</td>\n",
       "      <td>2</td>\n",
       "      <td>0</td>\n",
       "      <td>1</td>\n",
       "      <td>1</td>\n",
       "      <td>3</td>\n",
       "      <td>1</td>\n",
       "    </tr>\n",
       "    <tr>\n",
       "      <th>3</th>\n",
       "      <td>0</td>\n",
       "      <td>0</td>\n",
       "      <td>0</td>\n",
       "      <td>0</td>\n",
       "      <td>1</td>\n",
       "      <td>1</td>\n",
       "      <td>0</td>\n",
       "      <td>0</td>\n",
       "      <td>0</td>\n",
       "      <td>0</td>\n",
       "      <td>0</td>\n",
       "      <td>0</td>\n",
       "      <td>1</td>\n",
       "      <td>1</td>\n",
       "      <td>0</td>\n",
       "    </tr>\n",
       "  </tbody>\n",
       "</table>\n",
       "</div>"
      ],
      "text/plain": [
       "   t  h  i  s     a  m  p  l  e  n  c  o  r  x\n",
       "0  4  2  1  4  1  2  1  1  2  0  1  0  4  2  0\n",
       "1  2  2  1  6  1  0  1  1  3  1  1  1  1  2  1\n",
       "2  3  0  1  6  0  0  0  1  3  2  0  1  1  3  1\n",
       "3  0  0  0  0  1  1  0  0  0  0  0  0  1  1  0"
      ]
     },
     "execution_count": 1,
     "metadata": {},
     "output_type": "execute_result"
    }
   ],
   "source": [
    "from pandas import DataFrame\n",
    "from sklearn.feature_extraction.text import CountVectorizer\n",
    "\n",
    "text_data = [\"This is a sample sentence\", \"Another example sentence\", \"One more text sentence\",'this']\n",
    "\n",
    "vec = CountVectorizer( analyzer = 'char')\n",
    "\n",
    "encoded_data = vec.fit_transform(text_data)\n",
    "\n",
    "DataFrame(encoded_data.toarray(), columns = vec.vocabulary_)"
   ]
  },
  {
   "cell_type": "markdown",
   "id": "9a6b0661-c597-42b0-9841-ab6ab985ed35",
   "metadata": {},
   "source": [
    "# 2.1 Encoding from Scratch"
   ]
  },
  {
   "cell_type": "code",
   "execution_count": 3,
   "id": "d8c3ba3b-9cf1-4169-a75e-efb9552e5b5a",
   "metadata": {},
   "outputs": [
    {
     "name": "stdout",
     "output_type": "stream",
     "text": [
      "18\n",
      "[[9, 17, 13, 0, 15, 13, 0, 15, 10, 15, 0, 10, 4, 7, 5, 1, 15, 0, 1, 2, 3, 1, 2, 11, 1], [6, 2, 16, 3, 17, 1, 8, 15, 1, 12, 10, 4, 7, 5, 1, 15, 0, 1, 2, 3, 1, 2, 11, 1], [14, 2, 1, 15, 4, 16, 8, 1, 15, 3, 1, 12, 3, 15, 0, 1, 2, 3, 1, 2, 11, 1], [3, 17, 13, 0]]\n"
     ]
    }
   ],
   "source": [
    "text_data = [\"This is a sample sentence\", \"Another example sentence\", \"One more text sentence\",'this']\n",
    "\n",
    "characters = list(set(''.join(text_data)))\n",
    "print(len(characters))\n",
    "\n",
    "chr_to_int = {i : indx  for indx , i in enumerate(characters)}\n",
    "\n",
    "end_data = [[chr_to_int[char] for char in sent] for sent in text_data]\n",
    "print(end_data)"
   ]
  },
  {
   "cell_type": "markdown",
   "id": "764656c8-960d-4210-a92f-4e2bcc12bd66",
   "metadata": {},
   "source": [
    "# 2.2 Decoding from Scratch"
   ]
  },
  {
   "cell_type": "code",
   "execution_count": 4,
   "id": "e8e24ec8-70f3-4fc3-8595-4eca82da9e33",
   "metadata": {},
   "outputs": [
    {
     "name": "stdout",
     "output_type": "stream",
     "text": [
      "['This is a sample sentence', 'Another example sentence', 'One more text sentence', 'this']\n"
     ]
    }
   ],
   "source": [
    "int_to_chr = {indx : i  for indx , i in enumerate(characters)}\n",
    "\n",
    "dec_data = [''.join([int_to_chr[char] for char in sent]) for sent in end_data]\n",
    "print(dec_data)"
   ]
  },
  {
   "cell_type": "code",
   "execution_count": null,
   "id": "41f6b0f4-9e6e-474e-aa73-6c407d7408d1",
   "metadata": {},
   "outputs": [],
   "source": []
  }
 ],
 "metadata": {
  "kernelspec": {
   "display_name": "Python (base)",
   "language": "python",
   "name": "base"
  },
  "language_info": {
   "codemirror_mode": {
    "name": "ipython",
    "version": 3
   },
   "file_extension": ".py",
   "mimetype": "text/x-python",
   "name": "python",
   "nbconvert_exporter": "python",
   "pygments_lexer": "ipython3",
   "version": "3.11.7"
  }
 },
 "nbformat": 4,
 "nbformat_minor": 5
}
