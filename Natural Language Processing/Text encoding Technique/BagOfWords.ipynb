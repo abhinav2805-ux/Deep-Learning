{
 "cells": [
  {
   "cell_type": "markdown",
   "id": "56cc3c8e-2fba-4258-b234-80eaa6be441e",
   "metadata": {},
   "source": [
    "# 1. Bag of Words"
   ]
  },
  {
   "cell_type": "code",
   "execution_count": 1,
   "id": "14f7f3f6-84cc-4522-a07a-aba00101025d",
   "metadata": {},
   "outputs": [
    {
     "data": {
      "text/html": [
       "<div>\n",
       "<style scoped>\n",
       "    .dataframe tbody tr th:only-of-type {\n",
       "        vertical-align: middle;\n",
       "    }\n",
       "\n",
       "    .dataframe tbody tr th {\n",
       "        vertical-align: top;\n",
       "    }\n",
       "\n",
       "    .dataframe thead th {\n",
       "        text-align: right;\n",
       "    }\n",
       "</style>\n",
       "<table border=\"1\" class=\"dataframe\">\n",
       "  <thead>\n",
       "    <tr style=\"text-align: right;\">\n",
       "      <th></th>\n",
       "      <th>cat</th>\n",
       "      <th>very</th>\n",
       "      <th>The</th>\n",
       "      <th>a</th>\n",
       "      <th>is</th>\n",
       "      <th>cute</th>\n",
       "      <th>dog</th>\n",
       "      <th>word_corpus</th>\n",
       "    </tr>\n",
       "  </thead>\n",
       "  <tbody>\n",
       "    <tr>\n",
       "      <th>0</th>\n",
       "      <td>1</td>\n",
       "      <td>2</td>\n",
       "      <td>1</td>\n",
       "      <td>1</td>\n",
       "      <td>1</td>\n",
       "      <td>1</td>\n",
       "      <td>0</td>\n",
       "      <td>The is a very very cute cat</td>\n",
       "    </tr>\n",
       "    <tr>\n",
       "      <th>1</th>\n",
       "      <td>0</td>\n",
       "      <td>1</td>\n",
       "      <td>1</td>\n",
       "      <td>0</td>\n",
       "      <td>1</td>\n",
       "      <td>1</td>\n",
       "      <td>1</td>\n",
       "      <td>The dog is very cute</td>\n",
       "    </tr>\n",
       "  </tbody>\n",
       "</table>\n",
       "</div>"
      ],
      "text/plain": [
       "   cat  very  The  a  is  cute  dog                  word_corpus\n",
       "0    1     2    1  1   1     1    0  The is a very very cute cat\n",
       "1    0     1    1  0   1     1    1         The dog is very cute"
      ]
     },
     "execution_count": 1,
     "metadata": {},
     "output_type": "execute_result"
    }
   ],
   "source": [
    "import pandas as pd\n",
    "\n",
    "feature_vectors = []\n",
    "\n",
    "word_text = [\"The is a very very cute cat\", \"The dog is very cute\"]\n",
    "\n",
    "tokens = [token.split() for token in word_text]\n",
    "vocab  = list(set([word for text in tokens for word in text]))\n",
    "\n",
    "for text in tokens:\n",
    "    feature_vector = [0]*len(vocab)\n",
    "    for word in text:\n",
    "        feature_vector[vocab.index(word)] = text.count(word)        \n",
    "    feature_vectors.append(feature_vector)\n",
    "\n",
    "df = pd.DataFrame(feature_vectors, columns = vocab)\n",
    "df['word_corpus'] = word_text\n",
    "df"
   ]
  },
  {
   "cell_type": "markdown",
   "id": "6cf23e5c-87cb-4e95-ad30-7e7ae5081536",
   "metadata": {},
   "source": [
    "# 2. Binary Bag of Words"
   ]
  },
  {
   "cell_type": "code",
   "execution_count": 2,
   "id": "73b5786b-42cd-438f-83d6-3e84f7fd463b",
   "metadata": {},
   "outputs": [
    {
     "data": {
      "text/html": [
       "<div>\n",
       "<style scoped>\n",
       "    .dataframe tbody tr th:only-of-type {\n",
       "        vertical-align: middle;\n",
       "    }\n",
       "\n",
       "    .dataframe tbody tr th {\n",
       "        vertical-align: top;\n",
       "    }\n",
       "\n",
       "    .dataframe thead th {\n",
       "        text-align: right;\n",
       "    }\n",
       "</style>\n",
       "<table border=\"1\" class=\"dataframe\">\n",
       "  <thead>\n",
       "    <tr style=\"text-align: right;\">\n",
       "      <th></th>\n",
       "      <th>cat</th>\n",
       "      <th>very</th>\n",
       "      <th>The</th>\n",
       "      <th>a</th>\n",
       "      <th>is</th>\n",
       "      <th>cute</th>\n",
       "      <th>dog</th>\n",
       "      <th>word_corpus</th>\n",
       "    </tr>\n",
       "  </thead>\n",
       "  <tbody>\n",
       "    <tr>\n",
       "      <th>0</th>\n",
       "      <td>1</td>\n",
       "      <td>1</td>\n",
       "      <td>1</td>\n",
       "      <td>1</td>\n",
       "      <td>1</td>\n",
       "      <td>1</td>\n",
       "      <td>0</td>\n",
       "      <td>The is a very very cute cat</td>\n",
       "    </tr>\n",
       "    <tr>\n",
       "      <th>1</th>\n",
       "      <td>0</td>\n",
       "      <td>1</td>\n",
       "      <td>1</td>\n",
       "      <td>0</td>\n",
       "      <td>1</td>\n",
       "      <td>1</td>\n",
       "      <td>1</td>\n",
       "      <td>The dog is very cute</td>\n",
       "    </tr>\n",
       "  </tbody>\n",
       "</table>\n",
       "</div>"
      ],
      "text/plain": [
       "   cat  very  The  a  is  cute  dog                  word_corpus\n",
       "0    1     1    1  1   1     1    0  The is a very very cute cat\n",
       "1    0     1    1  0   1     1    1         The dog is very cute"
      ]
     },
     "execution_count": 2,
     "metadata": {},
     "output_type": "execute_result"
    }
   ],
   "source": [
    "import pandas as pd\n",
    "\n",
    "feature_vectors = []\n",
    "\n",
    "word_text = [\"The is a very very cute cat\", \"The dog is very cute\"]\n",
    "\n",
    "tokens = [token.split() for token in word_text]\n",
    "vocab  = list(set([word for text in tokens for word in text]))\n",
    "\n",
    "for text in tokens:\n",
    "    feature_vector = [0]*len(vocab)\n",
    "    for word in text:\n",
    "        if word in vocab:\n",
    "            feature_vector[vocab.index(word)] = 1\n",
    "    feature_vectors.append(feature_vector)\n",
    "\n",
    "df = pd.DataFrame(feature_vectors, columns = vocab)\n",
    "df['word_corpus'] = word_text\n",
    "df"
   ]
  },
  {
   "cell_type": "code",
   "execution_count": null,
   "id": "09adb0d4-58dc-443a-ae5b-538b2ce2b066",
   "metadata": {},
   "outputs": [],
   "source": []
  }
 ],
 "metadata": {
  "kernelspec": {
   "display_name": "Python (base)",
   "language": "python",
   "name": "base"
  },
  "language_info": {
   "codemirror_mode": {
    "name": "ipython",
    "version": 3
   },
   "file_extension": ".py",
   "mimetype": "text/x-python",
   "name": "python",
   "nbconvert_exporter": "python",
   "pygments_lexer": "ipython3",
   "version": "3.11.7"
  }
 },
 "nbformat": 4,
 "nbformat_minor": 5
}
