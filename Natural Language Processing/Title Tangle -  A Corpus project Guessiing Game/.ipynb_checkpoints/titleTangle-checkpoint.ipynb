{
 "cells": [
  {
   "cell_type": "code",
   "execution_count": 31,
   "id": "6b001e95-94f0-4eab-8501-6191ae9cef5a",
   "metadata": {},
   "outputs": [],
   "source": [
    "from nltk.tokenize import word_tokenize , sent_tokenize\n",
    "from nltk.corpus import stopwords\n",
    "import pandas as pd\n",
    "corpus_1 =\"India, the world's largest democracy, is a diverse and culturally rich country in South Asia. It is known for its ancient history, vibrant traditions, and rapid modernization. The country is home to iconic landmarks like the Taj Mahal, Jaipur's palaces, and the holy city of Varanasi.\" \n",
    "corpus_2 = 'Education is the foundation of a progressive society. It empowers individuals with knowledge, critical thinking skills, and the ability to make informed decisions. A well-educated population contributes to economic growth, scientific advancements, and social harmony. Education also plays a key role in reducing poverty and bridging social inequalities by providing equal opportunities to all.'\n",
    "corpus_3 = 'Climate change is one of the most pressing global issues today. Rising temperatures, melting glaciers, and unpredictable weather patterns are clear indicators of its impact. Human activities, such as deforestation and excessive carbon emissions, have accelerated global warming. If not addressed, climate change will lead to more natural disasters, loss of biodiversity, and food and water shortages, affecting millions of lives worldwide.'\n",
    "corpus_4 = 'Artificial Intelligence (AI) has revolutionized various industries, from healthcare to finance and even entertainment. AI-powered systems are improving medical diagnoses, automating business operations, and enhancing user experiences. While AI offers numerous benefits, concerns about job displacement and ethical issues remain. Striking a balance between AI advancements and human employment is crucial for a sustainable future.'"
   ]
  },
  {
   "cell_type": "markdown",
   "id": "bd47ccaa-8722-4165-aad5-a3cdbecc8ec5",
   "metadata": {},
   "source": [
    "# Remove Stop Words And Creating Vocabulary "
   ]
  },
  {
   "cell_type": "code",
   "execution_count": 32,
   "id": "5e6c0a24-c62c-4266-b65f-7ce28b9d5b3d",
   "metadata": {},
   "outputs": [],
   "source": [
    "words = []\n",
    "\n",
    "for word in word_tokenize(corpus_2):\n",
    "    if(word.lower() not in stopwords.words('english')) and (len(word)>=2):\n",
    "        words.append(word.lower())\n",
    "\n",
    "vocab = list(set(words))"
   ]
  },
  {
   "cell_type": "code",
   "execution_count": 33,
   "id": "70bd3e91-0d58-461f-ae56-4dde69a0fbba",
   "metadata": {},
   "outputs": [
    {
     "data": {
      "text/plain": [
       "['make',\n",
       " 'thinking',\n",
       " 'poverty',\n",
       " 'critical',\n",
       " 'opportunities',\n",
       " 'well-educated',\n",
       " 'individuals',\n",
       " 'skills',\n",
       " 'economic',\n",
       " 'empowers',\n",
       " 'informed',\n",
       " 'harmony',\n",
       " 'growth',\n",
       " 'role',\n",
       " 'ability',\n",
       " 'decisions',\n",
       " 'plays',\n",
       " 'bridging',\n",
       " 'equal',\n",
       " 'also',\n",
       " 'foundation',\n",
       " 'scientific',\n",
       " 'social',\n",
       " 'key',\n",
       " 'contributes',\n",
       " 'population',\n",
       " 'education',\n",
       " 'progressive',\n",
       " 'reducing',\n",
       " 'society',\n",
       " 'inequalities',\n",
       " 'providing',\n",
       " 'knowledge',\n",
       " 'advancements']"
      ]
     },
     "execution_count": 33,
     "metadata": {},
     "output_type": "execute_result"
    }
   ],
   "source": [
    "vocab"
   ]
  },
  {
   "cell_type": "markdown",
   "id": "db538b84-705d-4fd7-9bd0-97a89c6dc83d",
   "metadata": {},
   "source": [
    "# Creating Count Dictionary \n"
   ]
  },
  {
   "cell_type": "code",
   "execution_count": 34,
   "id": "e5aebdc2-5210-4fed-87bd-af1887fce48e",
   "metadata": {},
   "outputs": [],
   "source": [
    "word_freq = {}\n",
    "\n",
    "for word in vocab:\n",
    "    word_freq[word]=0"
   ]
  },
  {
   "cell_type": "code",
   "execution_count": 35,
   "id": "6e267a00-1e74-4606-9c00-f5b516b14c76",
   "metadata": {},
   "outputs": [
    {
     "data": {
      "text/plain": [
       "{'make': 0,\n",
       " 'thinking': 0,\n",
       " 'poverty': 0,\n",
       " 'critical': 0,\n",
       " 'opportunities': 0,\n",
       " 'well-educated': 0,\n",
       " 'individuals': 0,\n",
       " 'skills': 0,\n",
       " 'economic': 0,\n",
       " 'empowers': 0,\n",
       " 'informed': 0,\n",
       " 'harmony': 0,\n",
       " 'growth': 0,\n",
       " 'role': 0,\n",
       " 'ability': 0,\n",
       " 'decisions': 0,\n",
       " 'plays': 0,\n",
       " 'bridging': 0,\n",
       " 'equal': 0,\n",
       " 'also': 0,\n",
       " 'foundation': 0,\n",
       " 'scientific': 0,\n",
       " 'social': 0,\n",
       " 'key': 0,\n",
       " 'contributes': 0,\n",
       " 'population': 0,\n",
       " 'education': 0,\n",
       " 'progressive': 0,\n",
       " 'reducing': 0,\n",
       " 'society': 0,\n",
       " 'inequalities': 0,\n",
       " 'providing': 0,\n",
       " 'knowledge': 0,\n",
       " 'advancements': 0}"
      ]
     },
     "execution_count": 35,
     "metadata": {},
     "output_type": "execute_result"
    }
   ],
   "source": [
    "word_freq"
   ]
  },
  {
   "cell_type": "markdown",
   "id": "f5111936-f871-4e89-9e84-2e1a6f856a03",
   "metadata": {},
   "source": [
    "# Count the frequency of words"
   ]
  },
  {
   "cell_type": "code",
   "execution_count": 40,
   "id": "f8920ca1-4981-4578-bad0-6cd7277c8da3",
   "metadata": {},
   "outputs": [],
   "source": [
    "words = []\n",
    "\n",
    "for word in word_tokenize(corpus_2):\n",
    "    if(word.lower() not in stopwords.words('english')) and (len(word)>=2):\n",
    "        words.append(word.lower())"
   ]
  },
  {
   "cell_type": "code",
   "execution_count": 41,
   "id": "6f7e1454-0a43-48cb-9a6f-9f2919690e78",
   "metadata": {},
   "outputs": [
    {
     "data": {
      "text/plain": [
       "36"
      ]
     },
     "execution_count": 41,
     "metadata": {},
     "output_type": "execute_result"
    }
   ],
   "source": [
    "len(words)"
   ]
  },
  {
   "cell_type": "code",
   "execution_count": 42,
   "id": "9d1daf5b-2256-4612-9006-7a59df3a056a",
   "metadata": {},
   "outputs": [
    {
     "data": {
      "text/plain": [
       "34"
      ]
     },
     "execution_count": 42,
     "metadata": {},
     "output_type": "execute_result"
    }
   ],
   "source": [
    "len(set(words))"
   ]
  },
  {
   "cell_type": "code",
   "execution_count": 43,
   "id": "4f2f6b38-e3ed-494e-ba38-fd6404e1c62a",
   "metadata": {},
   "outputs": [],
   "source": [
    "for word in words:\n",
    "    word_freq[word] +=1"
   ]
  },
  {
   "cell_type": "code",
   "execution_count": null,
   "id": "4926e4f6-c8a3-42b5-87cf-dfa5c7090b17",
   "metadata": {},
   "outputs": [],
   "source": [
    "word_freq"
   ]
  },
  {
   "cell_type": "code",
   "execution_count": null,
   "id": "44b4373c-5c76-49a9-a027-bbcbc9463688",
   "metadata": {},
   "outputs": [],
   "source": [
    "data = []\n",
    "\n",
    "for key in word_freq.keys():\n",
    "    data.append([key,word_freq[key]])"
   ]
  },
  {
   "cell_type": "code",
   "execution_count": 44,
   "id": "deca5730-d4aa-4d39-882d-d3fe4e1be927",
   "metadata": {},
   "outputs": [
    {
     "data": {
      "text/plain": [
       "[['diverse', 1],\n",
       " ['varanasi', 1],\n",
       " ['history', 1],\n",
       " ['landmarks', 1],\n",
       " ['mahal', 1],\n",
       " ['palaces', 1],\n",
       " ['largest', 1],\n",
       " ['ancient', 1],\n",
       " ['vibrant', 1],\n",
       " ['holy', 1],\n",
       " ['world', 1],\n",
       " ['rich', 1],\n",
       " ['traditions', 1],\n",
       " ['culturally', 1],\n",
       " ['taj', 1],\n",
       " ['rapid', 1],\n",
       " ['modernization', 1],\n",
       " ['jaipur', 1],\n",
       " ['like', 1],\n",
       " ['iconic', 1],\n",
       " ['india', 1],\n",
       " ['south', 1],\n",
       " ['democracy', 1],\n",
       " ['country', 2],\n",
       " ['city', 1],\n",
       " ['known', 1],\n",
       " ['home', 1],\n",
       " [\"'s\", 2],\n",
       " ['asia', 1]]"
      ]
     },
     "execution_count": 44,
     "metadata": {},
     "output_type": "execute_result"
    }
   ],
   "source": [
    "data"
   ]
  },
  {
   "cell_type": "code",
   "execution_count": 45,
   "id": "82f3d372-d6fc-48eb-98fd-040ce09a82f3",
   "metadata": {},
   "outputs": [],
   "source": [
    "df = pd.DataFrame(data,columns = ['word','freq'])"
   ]
  },
  {
   "cell_type": "code",
   "execution_count": 46,
   "id": "032bbd18-121d-4e30-8b97-912e19fd9600",
   "metadata": {},
   "outputs": [
    {
     "data": {
      "text/html": [
       "<div>\n",
       "<style scoped>\n",
       "    .dataframe tbody tr th:only-of-type {\n",
       "        vertical-align: middle;\n",
       "    }\n",
       "\n",
       "    .dataframe tbody tr th {\n",
       "        vertical-align: top;\n",
       "    }\n",
       "\n",
       "    .dataframe thead th {\n",
       "        text-align: right;\n",
       "    }\n",
       "</style>\n",
       "<table border=\"1\" class=\"dataframe\">\n",
       "  <thead>\n",
       "    <tr style=\"text-align: right;\">\n",
       "      <th></th>\n",
       "      <th>word</th>\n",
       "      <th>freq</th>\n",
       "    </tr>\n",
       "  </thead>\n",
       "  <tbody>\n",
       "    <tr>\n",
       "      <th>0</th>\n",
       "      <td>diverse</td>\n",
       "      <td>1</td>\n",
       "    </tr>\n",
       "    <tr>\n",
       "      <th>1</th>\n",
       "      <td>varanasi</td>\n",
       "      <td>1</td>\n",
       "    </tr>\n",
       "    <tr>\n",
       "      <th>2</th>\n",
       "      <td>history</td>\n",
       "      <td>1</td>\n",
       "    </tr>\n",
       "    <tr>\n",
       "      <th>3</th>\n",
       "      <td>landmarks</td>\n",
       "      <td>1</td>\n",
       "    </tr>\n",
       "    <tr>\n",
       "      <th>4</th>\n",
       "      <td>mahal</td>\n",
       "      <td>1</td>\n",
       "    </tr>\n",
       "    <tr>\n",
       "      <th>5</th>\n",
       "      <td>palaces</td>\n",
       "      <td>1</td>\n",
       "    </tr>\n",
       "    <tr>\n",
       "      <th>6</th>\n",
       "      <td>largest</td>\n",
       "      <td>1</td>\n",
       "    </tr>\n",
       "    <tr>\n",
       "      <th>7</th>\n",
       "      <td>ancient</td>\n",
       "      <td>1</td>\n",
       "    </tr>\n",
       "    <tr>\n",
       "      <th>8</th>\n",
       "      <td>vibrant</td>\n",
       "      <td>1</td>\n",
       "    </tr>\n",
       "    <tr>\n",
       "      <th>9</th>\n",
       "      <td>holy</td>\n",
       "      <td>1</td>\n",
       "    </tr>\n",
       "    <tr>\n",
       "      <th>10</th>\n",
       "      <td>world</td>\n",
       "      <td>1</td>\n",
       "    </tr>\n",
       "    <tr>\n",
       "      <th>11</th>\n",
       "      <td>rich</td>\n",
       "      <td>1</td>\n",
       "    </tr>\n",
       "    <tr>\n",
       "      <th>12</th>\n",
       "      <td>traditions</td>\n",
       "      <td>1</td>\n",
       "    </tr>\n",
       "    <tr>\n",
       "      <th>13</th>\n",
       "      <td>culturally</td>\n",
       "      <td>1</td>\n",
       "    </tr>\n",
       "    <tr>\n",
       "      <th>14</th>\n",
       "      <td>taj</td>\n",
       "      <td>1</td>\n",
       "    </tr>\n",
       "    <tr>\n",
       "      <th>15</th>\n",
       "      <td>rapid</td>\n",
       "      <td>1</td>\n",
       "    </tr>\n",
       "    <tr>\n",
       "      <th>16</th>\n",
       "      <td>modernization</td>\n",
       "      <td>1</td>\n",
       "    </tr>\n",
       "    <tr>\n",
       "      <th>17</th>\n",
       "      <td>jaipur</td>\n",
       "      <td>1</td>\n",
       "    </tr>\n",
       "    <tr>\n",
       "      <th>18</th>\n",
       "      <td>like</td>\n",
       "      <td>1</td>\n",
       "    </tr>\n",
       "    <tr>\n",
       "      <th>19</th>\n",
       "      <td>iconic</td>\n",
       "      <td>1</td>\n",
       "    </tr>\n",
       "    <tr>\n",
       "      <th>20</th>\n",
       "      <td>india</td>\n",
       "      <td>1</td>\n",
       "    </tr>\n",
       "    <tr>\n",
       "      <th>21</th>\n",
       "      <td>south</td>\n",
       "      <td>1</td>\n",
       "    </tr>\n",
       "    <tr>\n",
       "      <th>22</th>\n",
       "      <td>democracy</td>\n",
       "      <td>1</td>\n",
       "    </tr>\n",
       "    <tr>\n",
       "      <th>23</th>\n",
       "      <td>country</td>\n",
       "      <td>2</td>\n",
       "    </tr>\n",
       "    <tr>\n",
       "      <th>24</th>\n",
       "      <td>city</td>\n",
       "      <td>1</td>\n",
       "    </tr>\n",
       "    <tr>\n",
       "      <th>25</th>\n",
       "      <td>known</td>\n",
       "      <td>1</td>\n",
       "    </tr>\n",
       "    <tr>\n",
       "      <th>26</th>\n",
       "      <td>home</td>\n",
       "      <td>1</td>\n",
       "    </tr>\n",
       "    <tr>\n",
       "      <th>27</th>\n",
       "      <td>'s</td>\n",
       "      <td>2</td>\n",
       "    </tr>\n",
       "    <tr>\n",
       "      <th>28</th>\n",
       "      <td>asia</td>\n",
       "      <td>1</td>\n",
       "    </tr>\n",
       "  </tbody>\n",
       "</table>\n",
       "</div>"
      ],
      "text/plain": [
       "             word  freq\n",
       "0         diverse     1\n",
       "1        varanasi     1\n",
       "2         history     1\n",
       "3       landmarks     1\n",
       "4           mahal     1\n",
       "5         palaces     1\n",
       "6         largest     1\n",
       "7         ancient     1\n",
       "8         vibrant     1\n",
       "9            holy     1\n",
       "10          world     1\n",
       "11           rich     1\n",
       "12     traditions     1\n",
       "13     culturally     1\n",
       "14            taj     1\n",
       "15          rapid     1\n",
       "16  modernization     1\n",
       "17         jaipur     1\n",
       "18           like     1\n",
       "19         iconic     1\n",
       "20          india     1\n",
       "21          south     1\n",
       "22      democracy     1\n",
       "23        country     2\n",
       "24           city     1\n",
       "25          known     1\n",
       "26           home     1\n",
       "27             's     2\n",
       "28           asia     1"
      ]
     },
     "execution_count": 46,
     "metadata": {},
     "output_type": "execute_result"
    }
   ],
   "source": [
    "df"
   ]
  },
  {
   "cell_type": "code",
   "execution_count": 47,
   "id": "8ad0bb07-16b4-4dbf-a9ac-7b0da33af801",
   "metadata": {},
   "outputs": [
    {
     "data": {
      "text/html": [
       "<div>\n",
       "<style scoped>\n",
       "    .dataframe tbody tr th:only-of-type {\n",
       "        vertical-align: middle;\n",
       "    }\n",
       "\n",
       "    .dataframe tbody tr th {\n",
       "        vertical-align: top;\n",
       "    }\n",
       "\n",
       "    .dataframe thead th {\n",
       "        text-align: right;\n",
       "    }\n",
       "</style>\n",
       "<table border=\"1\" class=\"dataframe\">\n",
       "  <thead>\n",
       "    <tr style=\"text-align: right;\">\n",
       "      <th></th>\n",
       "      <th>word</th>\n",
       "      <th>freq</th>\n",
       "    </tr>\n",
       "  </thead>\n",
       "  <tbody>\n",
       "    <tr>\n",
       "      <th>27</th>\n",
       "      <td>'s</td>\n",
       "      <td>2</td>\n",
       "    </tr>\n",
       "    <tr>\n",
       "      <th>23</th>\n",
       "      <td>country</td>\n",
       "      <td>2</td>\n",
       "    </tr>\n",
       "    <tr>\n",
       "      <th>0</th>\n",
       "      <td>diverse</td>\n",
       "      <td>1</td>\n",
       "    </tr>\n",
       "  </tbody>\n",
       "</table>\n",
       "</div>"
      ],
      "text/plain": [
       "       word  freq\n",
       "27       's     2\n",
       "23  country     2\n",
       "0   diverse     1"
      ]
     },
     "execution_count": 47,
     "metadata": {},
     "output_type": "execute_result"
    }
   ],
   "source": [
    "df.sort_values(by = 'freq' , ascending=False).head(3)"
   ]
  },
  {
   "cell_type": "code",
   "execution_count": null,
   "id": "14b0b899-a6f6-4fd8-acb9-5dff7c781d6f",
   "metadata": {},
   "outputs": [],
   "source": []
  }
 ],
 "metadata": {
  "kernelspec": {
   "display_name": "Python 3 (ipykernel)",
   "language": "python",
   "name": "python3"
  },
  "language_info": {
   "codemirror_mode": {
    "name": "ipython",
    "version": 3
   },
   "file_extension": ".py",
   "mimetype": "text/x-python",
   "name": "python",
   "nbconvert_exporter": "python",
   "pygments_lexer": "ipython3",
   "version": "3.11.7"
  }
 },
 "nbformat": 4,
 "nbformat_minor": 5
}
